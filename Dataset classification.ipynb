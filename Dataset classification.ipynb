{
  "nbformat": 4,
  "nbformat_minor": 0,
  "metadata": {
    "colab": {
      "name": "ML_8 (1).ipynb",
      "provenance": [],
      "collapsed_sections": []
    },
    "kernelspec": {
      "name": "python3",
      "display_name": "Python 3"
    },
    "language_info": {
      "name": "python"
    }
  },
  "cells": [
    {
      "cell_type": "markdown",
      "source": [
        "##Dataset classification"
      ],
      "metadata": {
        "id": "4s2_y74FfEjF"
      }
    },
    {
      "cell_type": "markdown",
      "metadata": {
        "id": "5JFsxkWZtje8"
      },
      "source": [
        "Построение классификатора на наборе данных, полученных Национальным институтом диабета, болезней органов пищеварения и почек (National Institute of Diabetes and Digestive and Kidney Diseases). Цель состоит в том, чтобы ответить на вопрос: есть ли у пациента диабет, основываясь на определенных диагностических измерениях, включенных в набор данных, который получен из исходной базы данных наложением нескольких ограничений. В частности, в рассматриваемых в задании данных, все пациенты — женщины не менее 21 года индийского происхождения Пима."
      ]
    },
    {
      "cell_type": "markdown",
      "source": [
        "Набор данных состоит из таких предикторов, как количество беременностей у пациентки, индекс массы тела, уровень инсулина, возраст и так далее. Отклик принимает два значение — больна (1) диабетом или нет (0)."
      ],
      "metadata": {
        "id": "A0Dee9WEe-St"
      }
    },
    {
      "cell_type": "code",
      "metadata": {
        "id": "lK_qNsbeKSK8"
      },
      "source": [
        "import pandas as pd\n",
        "import matplotlib\n",
        "import numpy as np\n",
        "import matplotlib.pyplot as plt\n",
        "%matplotlib inline"
      ],
      "execution_count": 1,
      "outputs": []
    },
    {
      "cell_type": "markdown",
      "source": [
        "Считывание датасета, task_data - количество выбранных из датасета строк"
      ],
      "metadata": {
        "id": "ZhPw6zh-gM7W"
      }
    },
    {
      "cell_type": "code",
      "source": [
        "df = pd.read_csv('/diabetes.csv')\n",
        "task_data = df.head(640)\n",
        "df.head()"
      ],
      "metadata": {
        "colab": {
          "base_uri": "https://localhost:8080/",
          "height": 206
        },
        "id": "eKCPWi9GgF-O",
        "outputId": "1c00ffe9-bab2-4972-ae92-403fd6f04ed8"
      },
      "execution_count": 2,
      "outputs": [
        {
          "output_type": "execute_result",
          "data": {
            "text/plain": [
              "   Pregnancies  Glucose  BloodPressure  SkinThickness  Insulin   BMI  \\\n",
              "0            6      148             72             35        0  33.6   \n",
              "1            1       85             66             29        0  26.6   \n",
              "2            8      183             64              0        0  23.3   \n",
              "3            1       89             66             23       94  28.1   \n",
              "4            0      137             40             35      168  43.1   \n",
              "\n",
              "   DiabetesPedigreeFunction  Age  Outcome  \n",
              "0                     0.627   50        1  \n",
              "1                     0.351   31        0  \n",
              "2                     0.672   32        1  \n",
              "3                     0.167   21        0  \n",
              "4                     2.288   33        1  "
            ],
            "text/html": [
              "\n",
              "  <div id=\"df-41df0d50-3272-4428-b0d4-8e388e89dba1\">\n",
              "    <div class=\"colab-df-container\">\n",
              "      <div>\n",
              "<style scoped>\n",
              "    .dataframe tbody tr th:only-of-type {\n",
              "        vertical-align: middle;\n",
              "    }\n",
              "\n",
              "    .dataframe tbody tr th {\n",
              "        vertical-align: top;\n",
              "    }\n",
              "\n",
              "    .dataframe thead th {\n",
              "        text-align: right;\n",
              "    }\n",
              "</style>\n",
              "<table border=\"1\" class=\"dataframe\">\n",
              "  <thead>\n",
              "    <tr style=\"text-align: right;\">\n",
              "      <th></th>\n",
              "      <th>Pregnancies</th>\n",
              "      <th>Glucose</th>\n",
              "      <th>BloodPressure</th>\n",
              "      <th>SkinThickness</th>\n",
              "      <th>Insulin</th>\n",
              "      <th>BMI</th>\n",
              "      <th>DiabetesPedigreeFunction</th>\n",
              "      <th>Age</th>\n",
              "      <th>Outcome</th>\n",
              "    </tr>\n",
              "  </thead>\n",
              "  <tbody>\n",
              "    <tr>\n",
              "      <th>0</th>\n",
              "      <td>6</td>\n",
              "      <td>148</td>\n",
              "      <td>72</td>\n",
              "      <td>35</td>\n",
              "      <td>0</td>\n",
              "      <td>33.6</td>\n",
              "      <td>0.627</td>\n",
              "      <td>50</td>\n",
              "      <td>1</td>\n",
              "    </tr>\n",
              "    <tr>\n",
              "      <th>1</th>\n",
              "      <td>1</td>\n",
              "      <td>85</td>\n",
              "      <td>66</td>\n",
              "      <td>29</td>\n",
              "      <td>0</td>\n",
              "      <td>26.6</td>\n",
              "      <td>0.351</td>\n",
              "      <td>31</td>\n",
              "      <td>0</td>\n",
              "    </tr>\n",
              "    <tr>\n",
              "      <th>2</th>\n",
              "      <td>8</td>\n",
              "      <td>183</td>\n",
              "      <td>64</td>\n",
              "      <td>0</td>\n",
              "      <td>0</td>\n",
              "      <td>23.3</td>\n",
              "      <td>0.672</td>\n",
              "      <td>32</td>\n",
              "      <td>1</td>\n",
              "    </tr>\n",
              "    <tr>\n",
              "      <th>3</th>\n",
              "      <td>1</td>\n",
              "      <td>89</td>\n",
              "      <td>66</td>\n",
              "      <td>23</td>\n",
              "      <td>94</td>\n",
              "      <td>28.1</td>\n",
              "      <td>0.167</td>\n",
              "      <td>21</td>\n",
              "      <td>0</td>\n",
              "    </tr>\n",
              "    <tr>\n",
              "      <th>4</th>\n",
              "      <td>0</td>\n",
              "      <td>137</td>\n",
              "      <td>40</td>\n",
              "      <td>35</td>\n",
              "      <td>168</td>\n",
              "      <td>43.1</td>\n",
              "      <td>2.288</td>\n",
              "      <td>33</td>\n",
              "      <td>1</td>\n",
              "    </tr>\n",
              "  </tbody>\n",
              "</table>\n",
              "</div>\n",
              "      <button class=\"colab-df-convert\" onclick=\"convertToInteractive('df-41df0d50-3272-4428-b0d4-8e388e89dba1')\"\n",
              "              title=\"Convert this dataframe to an interactive table.\"\n",
              "              style=\"display:none;\">\n",
              "        \n",
              "  <svg xmlns=\"http://www.w3.org/2000/svg\" height=\"24px\"viewBox=\"0 0 24 24\"\n",
              "       width=\"24px\">\n",
              "    <path d=\"M0 0h24v24H0V0z\" fill=\"none\"/>\n",
              "    <path d=\"M18.56 5.44l.94 2.06.94-2.06 2.06-.94-2.06-.94-.94-2.06-.94 2.06-2.06.94zm-11 1L8.5 8.5l.94-2.06 2.06-.94-2.06-.94L8.5 2.5l-.94 2.06-2.06.94zm10 10l.94 2.06.94-2.06 2.06-.94-2.06-.94-.94-2.06-.94 2.06-2.06.94z\"/><path d=\"M17.41 7.96l-1.37-1.37c-.4-.4-.92-.59-1.43-.59-.52 0-1.04.2-1.43.59L10.3 9.45l-7.72 7.72c-.78.78-.78 2.05 0 2.83L4 21.41c.39.39.9.59 1.41.59.51 0 1.02-.2 1.41-.59l7.78-7.78 2.81-2.81c.8-.78.8-2.07 0-2.86zM5.41 20L4 18.59l7.72-7.72 1.47 1.35L5.41 20z\"/>\n",
              "  </svg>\n",
              "      </button>\n",
              "      \n",
              "  <style>\n",
              "    .colab-df-container {\n",
              "      display:flex;\n",
              "      flex-wrap:wrap;\n",
              "      gap: 12px;\n",
              "    }\n",
              "\n",
              "    .colab-df-convert {\n",
              "      background-color: #E8F0FE;\n",
              "      border: none;\n",
              "      border-radius: 50%;\n",
              "      cursor: pointer;\n",
              "      display: none;\n",
              "      fill: #1967D2;\n",
              "      height: 32px;\n",
              "      padding: 0 0 0 0;\n",
              "      width: 32px;\n",
              "    }\n",
              "\n",
              "    .colab-df-convert:hover {\n",
              "      background-color: #E2EBFA;\n",
              "      box-shadow: 0px 1px 2px rgba(60, 64, 67, 0.3), 0px 1px 3px 1px rgba(60, 64, 67, 0.15);\n",
              "      fill: #174EA6;\n",
              "    }\n",
              "\n",
              "    [theme=dark] .colab-df-convert {\n",
              "      background-color: #3B4455;\n",
              "      fill: #D2E3FC;\n",
              "    }\n",
              "\n",
              "    [theme=dark] .colab-df-convert:hover {\n",
              "      background-color: #434B5C;\n",
              "      box-shadow: 0px 1px 3px 1px rgba(0, 0, 0, 0.15);\n",
              "      filter: drop-shadow(0px 1px 2px rgba(0, 0, 0, 0.3));\n",
              "      fill: #FFFFFF;\n",
              "    }\n",
              "  </style>\n",
              "\n",
              "      <script>\n",
              "        const buttonEl =\n",
              "          document.querySelector('#df-41df0d50-3272-4428-b0d4-8e388e89dba1 button.colab-df-convert');\n",
              "        buttonEl.style.display =\n",
              "          google.colab.kernel.accessAllowed ? 'block' : 'none';\n",
              "\n",
              "        async function convertToInteractive(key) {\n",
              "          const element = document.querySelector('#df-41df0d50-3272-4428-b0d4-8e388e89dba1');\n",
              "          const dataTable =\n",
              "            await google.colab.kernel.invokeFunction('convertToInteractive',\n",
              "                                                     [key], {});\n",
              "          if (!dataTable) return;\n",
              "\n",
              "          const docLinkHtml = 'Like what you see? Visit the ' +\n",
              "            '<a target=\"_blank\" href=https://colab.research.google.com/notebooks/data_table.ipynb>data table notebook</a>'\n",
              "            + ' to learn more about interactive tables.';\n",
              "          element.innerHTML = '';\n",
              "          dataTable['output_type'] = 'display_data';\n",
              "          await google.colab.output.renderOutput(dataTable, element);\n",
              "          const docLink = document.createElement('div');\n",
              "          docLink.innerHTML = docLinkHtml;\n",
              "          element.appendChild(docLink);\n",
              "        }\n",
              "      </script>\n",
              "    </div>\n",
              "  </div>\n",
              "  "
            ]
          },
          "metadata": {},
          "execution_count": 2
        }
      ]
    },
    {
      "cell_type": "markdown",
      "source": [
        "Вывод числа строк в получившейся выборке относящихся к классу 0 (пациент не болен диабетом)."
      ],
      "metadata": {
        "id": "3HnK9OH6glSk"
      }
    },
    {
      "cell_type": "code",
      "metadata": {
        "colab": {
          "base_uri": "https://localhost:8080/"
        },
        "id": "iN7c0GoHKaX3",
        "outputId": "af640c95-f2dd-4a1b-f692-f5f470a97e2a"
      },
      "source": [
        "len(task_data[task_data['Outcome'] == 0])"
      ],
      "execution_count": 3,
      "outputs": [
        {
          "output_type": "execute_result",
          "data": {
            "text/plain": [
              "421"
            ]
          },
          "metadata": {},
          "execution_count": 3
        }
      ]
    },
    {
      "cell_type": "markdown",
      "source": [
        "Разделение данных на тренировочные и тестовые. Первые 80% строк — тренировочные, остальные 20% — тестовые."
      ],
      "metadata": {
        "id": "C0dlwjJ7hAd1"
      }
    },
    {
      "cell_type": "code",
      "metadata": {
        "id": "ViJqLzfbMghM"
      },
      "source": [
        "train = task_data.head(int(len(task_data)*0.8))\n",
        "test = task_data.tail(int(len(task_data)*0.2))"
      ],
      "execution_count": 4,
      "outputs": []
    },
    {
      "cell_type": "markdown",
      "source": [
        "Выделение предикторов и отклик. Предикторами служат столбцы Pregnancies, Glucose, BloodPressure, SkinThickness, Insulin, BMI, DiabetesPedigreeFunction, Age. Отклик — Outcome."
      ],
      "metadata": {
        "id": "0A4eP5iUhLEJ"
      }
    },
    {
      "cell_type": "code",
      "metadata": {
        "id": "B6PJKx6gM4Rb"
      },
      "source": [
        "features = list(train.columns[:8])\n",
        "x = train[features]\n",
        "y = train['Outcome']"
      ],
      "execution_count": 5,
      "outputs": []
    },
    {
      "cell_type": "markdown",
      "source": [
        "Обучение классификатора с использованием DecisionTreeClassifier с параметрами criterion='entropy', max_leaf_nodes = 25, min_samples_leaf = 15 и random_state = 2020."
      ],
      "metadata": {
        "id": "nnChVCX7hY50"
      }
    },
    {
      "cell_type": "code",
      "metadata": {
        "id": "u10TmKriNU8X"
      },
      "source": [
        "from sklearn.tree import DecisionTreeClassifier\n",
        "tree = DecisionTreeClassifier(criterion='entropy', # критерий разделения\n",
        "                              min_samples_leaf=15, # минимальное число объектов в листе\n",
        "                              max_leaf_nodes=25, # максимальное число листьев\n",
        "                              random_state=2020)\n",
        "clf=tree.fit(x, y)\n"
      ],
      "execution_count": 6,
      "outputs": []
    },
    {
      "cell_type": "markdown",
      "source": [
        "Подключение библиотеки для визуализации дерева. Сохранение в файл."
      ],
      "metadata": {
        "id": "O6Amv6-7hjnD"
      }
    },
    {
      "cell_type": "code",
      "metadata": {
        "id": "hSEgpTw3OZ2J"
      },
      "source": [
        "from sklearn.tree import export_graphviz\n",
        "import graphviz\n",
        "columns = list(x.columns)\n",
        "export_graphviz(clf, out_file='tree.dot', \n",
        "                feature_names=columns,\n",
        "                class_names=['0', '1'],\n",
        "                rounded = True, proportion = False, \n",
        "                precision = 2, filled = True, label='all')\n",
        "\n",
        "with open('tree.dot') as f:\n",
        "    dot_graph = f.read()"
      ],
      "execution_count": 7,
      "outputs": []
    },
    {
      "cell_type": "markdown",
      "source": [
        " Глубина дерева"
      ],
      "metadata": {
        "id": "PyjIzavcht8j"
      }
    },
    {
      "cell_type": "code",
      "source": [
        "clf.tree_.max_depth"
      ],
      "metadata": {
        "colab": {
          "base_uri": "https://localhost:8080/"
        },
        "id": "cHrQ2Cz9hvh0",
        "outputId": "5c72b68e-53f2-4bc7-d2af-34ca5d1faeae"
      },
      "execution_count": 8,
      "outputs": [
        {
          "output_type": "execute_result",
          "data": {
            "text/plain": [
              "7"
            ]
          },
          "metadata": {},
          "execution_count": 8
        }
      ]
    },
    {
      "cell_type": "markdown",
      "source": [
        "Выявление предикторов, по которым выполнено разделение на последнем уровне дерева принятия решений: последние уровни графа, значение разделения - число после <=\n",
        "Графическое представление:"
      ],
      "metadata": {
        "id": "swDTn6hrh0gm"
      }
    },
    {
      "cell_type": "code",
      "metadata": {
        "colab": {
          "base_uri": "https://localhost:8080/",
          "height": 1000
        },
        "id": "4k4MjSrTQJbT",
        "outputId": "a299ea25-20b8-4850-835c-9f4e8e171957"
      },
      "source": [
        "graphviz.Source(dot_graph)"
      ],
      "execution_count": 9,
      "outputs": [
        {
          "output_type": "execute_result",
          "data": {
            "text/plain": [
              "<graphviz.files.Source at 0x7f6556c67b50>"
            ],
            "image/svg+xml": "<?xml version=\"1.0\" encoding=\"UTF-8\" standalone=\"no\"?>\n<!DOCTYPE svg PUBLIC \"-//W3C//DTD SVG 1.1//EN\"\n \"http://www.w3.org/Graphics/SVG/1.1/DTD/svg11.dtd\">\n<!-- Generated by graphviz version 2.40.1 (20161225.0304)\n -->\n<!-- Title: Tree Pages: 1 -->\n<svg width=\"1688pt\" height=\"909pt\"\n viewBox=\"0.00 0.00 1687.50 909.00\" xmlns=\"http://www.w3.org/2000/svg\" xmlns:xlink=\"http://www.w3.org/1999/xlink\">\n<g id=\"graph0\" class=\"graph\" transform=\"scale(1 1) rotate(0) translate(4 905)\">\n<title>Tree</title>\n<polygon fill=\"#ffffff\" stroke=\"transparent\" points=\"-4,4 -4,-905 1683.5,-905 1683.5,4 -4,4\"/>\n<!-- 0 -->\n<g id=\"node1\" class=\"node\">\n<title>0</title>\n<path fill=\"#f4c8a9\" stroke=\"#000000\" d=\"M904.5,-901C904.5,-901 796.5,-901 796.5,-901 790.5,-901 784.5,-895 784.5,-889 784.5,-889 784.5,-830 784.5,-830 784.5,-824 790.5,-818 796.5,-818 796.5,-818 904.5,-818 904.5,-818 910.5,-818 916.5,-824 916.5,-830 916.5,-830 916.5,-889 916.5,-889 916.5,-895 910.5,-901 904.5,-901\"/>\n<text text-anchor=\"middle\" x=\"850.5\" y=\"-885.8\" font-family=\"Helvetica,sans-Serif\" font-size=\"14.00\" fill=\"#000000\">Glucose &lt;= 154.5</text>\n<text text-anchor=\"middle\" x=\"850.5\" y=\"-870.8\" font-family=\"Helvetica,sans-Serif\" font-size=\"14.00\" fill=\"#000000\">entropy = 0.94</text>\n<text text-anchor=\"middle\" x=\"850.5\" y=\"-855.8\" font-family=\"Helvetica,sans-Serif\" font-size=\"14.00\" fill=\"#000000\">samples = 512</text>\n<text text-anchor=\"middle\" x=\"850.5\" y=\"-840.8\" font-family=\"Helvetica,sans-Serif\" font-size=\"14.00\" fill=\"#000000\">value = [327, 185]</text>\n<text text-anchor=\"middle\" x=\"850.5\" y=\"-825.8\" font-family=\"Helvetica,sans-Serif\" font-size=\"14.00\" fill=\"#000000\">class = 0</text>\n</g>\n<!-- 1 -->\n<g id=\"node2\" class=\"node\">\n<title>1</title>\n<path fill=\"#efb185\" stroke=\"#000000\" d=\"M643.5,-782C643.5,-782 535.5,-782 535.5,-782 529.5,-782 523.5,-776 523.5,-770 523.5,-770 523.5,-711 523.5,-711 523.5,-705 529.5,-699 535.5,-699 535.5,-699 643.5,-699 643.5,-699 649.5,-699 655.5,-705 655.5,-711 655.5,-711 655.5,-770 655.5,-770 655.5,-776 649.5,-782 643.5,-782\"/>\n<text text-anchor=\"middle\" x=\"589.5\" y=\"-766.8\" font-family=\"Helvetica,sans-Serif\" font-size=\"14.00\" fill=\"#000000\">BMI &lt;= 26.3</text>\n<text text-anchor=\"middle\" x=\"589.5\" y=\"-751.8\" font-family=\"Helvetica,sans-Serif\" font-size=\"14.00\" fill=\"#000000\">entropy = 0.85</text>\n<text text-anchor=\"middle\" x=\"589.5\" y=\"-736.8\" font-family=\"Helvetica,sans-Serif\" font-size=\"14.00\" fill=\"#000000\">samples = 430</text>\n<text text-anchor=\"middle\" x=\"589.5\" y=\"-721.8\" font-family=\"Helvetica,sans-Serif\" font-size=\"14.00\" fill=\"#000000\">value = [311, 119]</text>\n<text text-anchor=\"middle\" x=\"589.5\" y=\"-706.8\" font-family=\"Helvetica,sans-Serif\" font-size=\"14.00\" fill=\"#000000\">class = 0</text>\n</g>\n<!-- 0&#45;&gt;1 -->\n<g id=\"edge1\" class=\"edge\">\n<title>0&#45;&gt;1</title>\n<path fill=\"none\" stroke=\"#000000\" d=\"M784.3013,-829.3174C747.9636,-812.7497 702.7584,-792.1389 665.045,-774.9439\"/>\n<polygon fill=\"#000000\" stroke=\"#000000\" points=\"666.1791,-771.6144 655.6282,-770.6504 663.2751,-777.9836 666.1791,-771.6144\"/>\n<text text-anchor=\"middle\" x=\"664.3792\" y=\"-790.3687\" font-family=\"Helvetica,sans-Serif\" font-size=\"14.00\" fill=\"#000000\">True</text>\n</g>\n<!-- 2 -->\n<g id=\"node39\" class=\"node\">\n<title>2</title>\n<path fill=\"#69b5eb\" stroke=\"#000000\" d=\"M1025.5,-782C1025.5,-782 807.5,-782 807.5,-782 801.5,-782 795.5,-776 795.5,-770 795.5,-770 795.5,-711 795.5,-711 795.5,-705 801.5,-699 807.5,-699 807.5,-699 1025.5,-699 1025.5,-699 1031.5,-699 1037.5,-705 1037.5,-711 1037.5,-711 1037.5,-770 1037.5,-770 1037.5,-776 1031.5,-782 1025.5,-782\"/>\n<text text-anchor=\"middle\" x=\"916.5\" y=\"-766.8\" font-family=\"Helvetica,sans-Serif\" font-size=\"14.00\" fill=\"#000000\">DiabetesPedigreeFunction &lt;= 0.31</text>\n<text text-anchor=\"middle\" x=\"916.5\" y=\"-751.8\" font-family=\"Helvetica,sans-Serif\" font-size=\"14.00\" fill=\"#000000\">entropy = 0.71</text>\n<text text-anchor=\"middle\" x=\"916.5\" y=\"-736.8\" font-family=\"Helvetica,sans-Serif\" font-size=\"14.00\" fill=\"#000000\">samples = 82</text>\n<text text-anchor=\"middle\" x=\"916.5\" y=\"-721.8\" font-family=\"Helvetica,sans-Serif\" font-size=\"14.00\" fill=\"#000000\">value = [16, 66]</text>\n<text text-anchor=\"middle\" x=\"916.5\" y=\"-706.8\" font-family=\"Helvetica,sans-Serif\" font-size=\"14.00\" fill=\"#000000\">class = 1</text>\n</g>\n<!-- 0&#45;&gt;2 -->\n<g id=\"edge38\" class=\"edge\">\n<title>0&#45;&gt;2</title>\n<path fill=\"none\" stroke=\"#000000\" d=\"M873.5836,-817.8796C878.3789,-809.2335 883.4822,-800.0322 888.4338,-791.1042\"/>\n<polygon fill=\"#000000\" stroke=\"#000000\" points=\"891.5284,-792.7407 893.3179,-782.2981 885.4069,-789.3455 891.5284,-792.7407\"/>\n<text text-anchor=\"middle\" x=\"900.2031\" y=\"-802.6313\" font-family=\"Helvetica,sans-Serif\" font-size=\"14.00\" fill=\"#000000\">False</text>\n</g>\n<!-- 3 -->\n<g id=\"node3\" class=\"node\">\n<title>3</title>\n<path fill=\"#e68641\" stroke=\"#000000\" d=\"M250,-663C250,-663 131,-663 131,-663 125,-663 119,-657 119,-651 119,-651 119,-592 119,-592 119,-586 125,-580 131,-580 131,-580 250,-580 250,-580 256,-580 262,-586 262,-592 262,-592 262,-651 262,-651 262,-657 256,-663 250,-663\"/>\n<text text-anchor=\"middle\" x=\"190.5\" y=\"-647.8\" font-family=\"Helvetica,sans-Serif\" font-size=\"14.00\" fill=\"#000000\">Pregnancies &lt;= 2.5</text>\n<text text-anchor=\"middle\" x=\"190.5\" y=\"-632.8\" font-family=\"Helvetica,sans-Serif\" font-size=\"14.00\" fill=\"#000000\">entropy = 0.23</text>\n<text text-anchor=\"middle\" x=\"190.5\" y=\"-617.8\" font-family=\"Helvetica,sans-Serif\" font-size=\"14.00\" fill=\"#000000\">samples = 106</text>\n<text text-anchor=\"middle\" x=\"190.5\" y=\"-602.8\" font-family=\"Helvetica,sans-Serif\" font-size=\"14.00\" fill=\"#000000\">value = [102, 4]</text>\n<text text-anchor=\"middle\" x=\"190.5\" y=\"-587.8\" font-family=\"Helvetica,sans-Serif\" font-size=\"14.00\" fill=\"#000000\">class = 0</text>\n</g>\n<!-- 1&#45;&gt;3 -->\n<g id=\"edge2\" class=\"edge\">\n<title>1&#45;&gt;3</title>\n<path fill=\"none\" stroke=\"#000000\" d=\"M523.1654,-720.716C454.1351,-700.128 345.9579,-667.8646 271.8234,-645.7543\"/>\n<polygon fill=\"#000000\" stroke=\"#000000\" points=\"272.6337,-642.3437 262.0504,-642.8396 270.633,-649.0517 272.6337,-642.3437\"/>\n</g>\n<!-- 4 -->\n<g id=\"node8\" class=\"node\">\n<title>4</title>\n<path fill=\"#f3c6a6\" stroke=\"#000000\" d=\"M643.5,-663C643.5,-663 535.5,-663 535.5,-663 529.5,-663 523.5,-657 523.5,-651 523.5,-651 523.5,-592 523.5,-592 523.5,-586 529.5,-580 535.5,-580 535.5,-580 643.5,-580 643.5,-580 649.5,-580 655.5,-586 655.5,-592 655.5,-592 655.5,-651 655.5,-651 655.5,-657 649.5,-663 643.5,-663\"/>\n<text text-anchor=\"middle\" x=\"589.5\" y=\"-647.8\" font-family=\"Helvetica,sans-Serif\" font-size=\"14.00\" fill=\"#000000\">Glucose &lt;= 99.5</text>\n<text text-anchor=\"middle\" x=\"589.5\" y=\"-632.8\" font-family=\"Helvetica,sans-Serif\" font-size=\"14.00\" fill=\"#000000\">entropy = 0.94</text>\n<text text-anchor=\"middle\" x=\"589.5\" y=\"-617.8\" font-family=\"Helvetica,sans-Serif\" font-size=\"14.00\" fill=\"#000000\">samples = 324</text>\n<text text-anchor=\"middle\" x=\"589.5\" y=\"-602.8\" font-family=\"Helvetica,sans-Serif\" font-size=\"14.00\" fill=\"#000000\">value = [209, 115]</text>\n<text text-anchor=\"middle\" x=\"589.5\" y=\"-587.8\" font-family=\"Helvetica,sans-Serif\" font-size=\"14.00\" fill=\"#000000\">class = 0</text>\n</g>\n<!-- 1&#45;&gt;4 -->\n<g id=\"edge7\" class=\"edge\">\n<title>1&#45;&gt;4</title>\n<path fill=\"none\" stroke=\"#000000\" d=\"M589.5,-698.8796C589.5,-690.6838 589.5,-681.9891 589.5,-673.5013\"/>\n<polygon fill=\"#000000\" stroke=\"#000000\" points=\"593.0001,-673.298 589.5,-663.2981 586.0001,-673.2981 593.0001,-673.298\"/>\n</g>\n<!-- 21 -->\n<g id=\"node4\" class=\"node\">\n<title>21</title>\n<path fill=\"#e58139\" stroke=\"#000000\" d=\"M95,-536.5C95,-536.5 12,-536.5 12,-536.5 6,-536.5 0,-530.5 0,-524.5 0,-524.5 0,-480.5 0,-480.5 0,-474.5 6,-468.5 12,-468.5 12,-468.5 95,-468.5 95,-468.5 101,-468.5 107,-474.5 107,-480.5 107,-480.5 107,-524.5 107,-524.5 107,-530.5 101,-536.5 95,-536.5\"/>\n<text text-anchor=\"middle\" x=\"53.5\" y=\"-521.3\" font-family=\"Helvetica,sans-Serif\" font-size=\"14.00\" fill=\"#000000\">entropy = 0.0</text>\n<text text-anchor=\"middle\" x=\"53.5\" y=\"-506.3\" font-family=\"Helvetica,sans-Serif\" font-size=\"14.00\" fill=\"#000000\">samples = 59</text>\n<text text-anchor=\"middle\" x=\"53.5\" y=\"-491.3\" font-family=\"Helvetica,sans-Serif\" font-size=\"14.00\" fill=\"#000000\">value = [59, 0]</text>\n<text text-anchor=\"middle\" x=\"53.5\" y=\"-476.3\" font-family=\"Helvetica,sans-Serif\" font-size=\"14.00\" fill=\"#000000\">class = 0</text>\n</g>\n<!-- 3&#45;&gt;21 -->\n<g id=\"edge3\" class=\"edge\">\n<title>3&#45;&gt;21</title>\n<path fill=\"none\" stroke=\"#000000\" d=\"M142.584,-579.8796C129.0385,-568.1138 114.3092,-555.3197 100.8002,-543.5855\"/>\n<polygon fill=\"#000000\" stroke=\"#000000\" points=\"102.8503,-540.7303 93.0054,-536.8149 98.2599,-546.015 102.8503,-540.7303\"/>\n</g>\n<!-- 22 -->\n<g id=\"node5\" class=\"node\">\n<title>22</title>\n<path fill=\"#e78d4b\" stroke=\"#000000\" d=\"M244,-544C244,-544 137,-544 137,-544 131,-544 125,-538 125,-532 125,-532 125,-473 125,-473 125,-467 131,-461 137,-461 137,-461 244,-461 244,-461 250,-461 256,-467 256,-473 256,-473 256,-532 256,-532 256,-538 250,-544 244,-544\"/>\n<text text-anchor=\"middle\" x=\"190.5\" y=\"-528.8\" font-family=\"Helvetica,sans-Serif\" font-size=\"14.00\" fill=\"#000000\">Glucose &lt;= 106.5</text>\n<text text-anchor=\"middle\" x=\"190.5\" y=\"-513.8\" font-family=\"Helvetica,sans-Serif\" font-size=\"14.00\" fill=\"#000000\">entropy = 0.42</text>\n<text text-anchor=\"middle\" x=\"190.5\" y=\"-498.8\" font-family=\"Helvetica,sans-Serif\" font-size=\"14.00\" fill=\"#000000\">samples = 47</text>\n<text text-anchor=\"middle\" x=\"190.5\" y=\"-483.8\" font-family=\"Helvetica,sans-Serif\" font-size=\"14.00\" fill=\"#000000\">value = [43, 4]</text>\n<text text-anchor=\"middle\" x=\"190.5\" y=\"-468.8\" font-family=\"Helvetica,sans-Serif\" font-size=\"14.00\" fill=\"#000000\">class = 0</text>\n</g>\n<!-- 3&#45;&gt;22 -->\n<g id=\"edge4\" class=\"edge\">\n<title>3&#45;&gt;22</title>\n<path fill=\"none\" stroke=\"#000000\" d=\"M190.5,-579.8796C190.5,-571.6838 190.5,-562.9891 190.5,-554.5013\"/>\n<polygon fill=\"#000000\" stroke=\"#000000\" points=\"194.0001,-554.298 190.5,-544.2981 187.0001,-554.2981 194.0001,-554.298\"/>\n</g>\n<!-- 31 -->\n<g id=\"node6\" class=\"node\">\n<title>31</title>\n<path fill=\"#e58139\" stroke=\"#000000\" d=\"M105,-417.5C105,-417.5 22,-417.5 22,-417.5 16,-417.5 10,-411.5 10,-405.5 10,-405.5 10,-361.5 10,-361.5 10,-355.5 16,-349.5 22,-349.5 22,-349.5 105,-349.5 105,-349.5 111,-349.5 117,-355.5 117,-361.5 117,-361.5 117,-405.5 117,-405.5 117,-411.5 111,-417.5 105,-417.5\"/>\n<text text-anchor=\"middle\" x=\"63.5\" y=\"-402.3\" font-family=\"Helvetica,sans-Serif\" font-size=\"14.00\" fill=\"#000000\">entropy = 0.0</text>\n<text text-anchor=\"middle\" x=\"63.5\" y=\"-387.3\" font-family=\"Helvetica,sans-Serif\" font-size=\"14.00\" fill=\"#000000\">samples = 19</text>\n<text text-anchor=\"middle\" x=\"63.5\" y=\"-372.3\" font-family=\"Helvetica,sans-Serif\" font-size=\"14.00\" fill=\"#000000\">value = [19, 0]</text>\n<text text-anchor=\"middle\" x=\"63.5\" y=\"-357.3\" font-family=\"Helvetica,sans-Serif\" font-size=\"14.00\" fill=\"#000000\">class = 0</text>\n</g>\n<!-- 22&#45;&gt;31 -->\n<g id=\"edge5\" class=\"edge\">\n<title>22&#45;&gt;31</title>\n<path fill=\"none\" stroke=\"#000000\" d=\"M146.0816,-460.8796C133.6421,-449.2237 120.1257,-436.5587 107.699,-424.9148\"/>\n<polygon fill=\"#000000\" stroke=\"#000000\" points=\"109.8121,-422.0985 100.1218,-417.8149 105.0259,-427.2065 109.8121,-422.0985\"/>\n</g>\n<!-- 32 -->\n<g id=\"node7\" class=\"node\">\n<title>32</title>\n<path fill=\"#e9965a\" stroke=\"#000000\" d=\"M233.5,-417.5C233.5,-417.5 147.5,-417.5 147.5,-417.5 141.5,-417.5 135.5,-411.5 135.5,-405.5 135.5,-405.5 135.5,-361.5 135.5,-361.5 135.5,-355.5 141.5,-349.5 147.5,-349.5 147.5,-349.5 233.5,-349.5 233.5,-349.5 239.5,-349.5 245.5,-355.5 245.5,-361.5 245.5,-361.5 245.5,-405.5 245.5,-405.5 245.5,-411.5 239.5,-417.5 233.5,-417.5\"/>\n<text text-anchor=\"middle\" x=\"190.5\" y=\"-402.3\" font-family=\"Helvetica,sans-Serif\" font-size=\"14.00\" fill=\"#000000\">entropy = 0.59</text>\n<text text-anchor=\"middle\" x=\"190.5\" y=\"-387.3\" font-family=\"Helvetica,sans-Serif\" font-size=\"14.00\" fill=\"#000000\">samples = 28</text>\n<text text-anchor=\"middle\" x=\"190.5\" y=\"-372.3\" font-family=\"Helvetica,sans-Serif\" font-size=\"14.00\" fill=\"#000000\">value = [24, 4]</text>\n<text text-anchor=\"middle\" x=\"190.5\" y=\"-357.3\" font-family=\"Helvetica,sans-Serif\" font-size=\"14.00\" fill=\"#000000\">class = 0</text>\n</g>\n<!-- 22&#45;&gt;32 -->\n<g id=\"edge6\" class=\"edge\">\n<title>22&#45;&gt;32</title>\n<path fill=\"none\" stroke=\"#000000\" d=\"M190.5,-460.8796C190.5,-450.2134 190.5,-438.7021 190.5,-427.9015\"/>\n<polygon fill=\"#000000\" stroke=\"#000000\" points=\"194.0001,-427.8149 190.5,-417.8149 187.0001,-427.815 194.0001,-427.8149\"/>\n</g>\n<!-- 5 -->\n<g id=\"node9\" class=\"node\">\n<title>5</title>\n<path fill=\"#e99355\" stroke=\"#000000\" d=\"M570.5,-544C570.5,-544 478.5,-544 478.5,-544 472.5,-544 466.5,-538 466.5,-532 466.5,-532 466.5,-473 466.5,-473 466.5,-467 472.5,-461 478.5,-461 478.5,-461 570.5,-461 570.5,-461 576.5,-461 582.5,-467 582.5,-473 582.5,-473 582.5,-532 582.5,-532 582.5,-538 576.5,-544 570.5,-544\"/>\n<text text-anchor=\"middle\" x=\"524.5\" y=\"-528.8\" font-family=\"Helvetica,sans-Serif\" font-size=\"14.00\" fill=\"#000000\">Age &lt;= 25.5</text>\n<text text-anchor=\"middle\" x=\"524.5\" y=\"-513.8\" font-family=\"Helvetica,sans-Serif\" font-size=\"14.00\" fill=\"#000000\">entropy = 0.54</text>\n<text text-anchor=\"middle\" x=\"524.5\" y=\"-498.8\" font-family=\"Helvetica,sans-Serif\" font-size=\"14.00\" fill=\"#000000\">samples = 89</text>\n<text text-anchor=\"middle\" x=\"524.5\" y=\"-483.8\" font-family=\"Helvetica,sans-Serif\" font-size=\"14.00\" fill=\"#000000\">value = [78, 11]</text>\n<text text-anchor=\"middle\" x=\"524.5\" y=\"-468.8\" font-family=\"Helvetica,sans-Serif\" font-size=\"14.00\" fill=\"#000000\">class = 0</text>\n</g>\n<!-- 4&#45;&gt;5 -->\n<g id=\"edge8\" class=\"edge\">\n<title>4&#45;&gt;5</title>\n<path fill=\"none\" stroke=\"#000000\" d=\"M566.7662,-579.8796C562.0435,-571.2335 557.0176,-562.0322 552.141,-553.1042\"/>\n<polygon fill=\"#000000\" stroke=\"#000000\" points=\"555.1963,-551.3964 547.3309,-544.2981 549.053,-554.752 555.1963,-551.3964\"/>\n</g>\n<!-- 6 -->\n<g id=\"node16\" class=\"node\">\n<title>6</title>\n<path fill=\"#fae5d6\" stroke=\"#000000\" d=\"M792.5,-544C792.5,-544 684.5,-544 684.5,-544 678.5,-544 672.5,-538 672.5,-532 672.5,-532 672.5,-473 672.5,-473 672.5,-467 678.5,-461 684.5,-461 684.5,-461 792.5,-461 792.5,-461 798.5,-461 804.5,-467 804.5,-473 804.5,-473 804.5,-532 804.5,-532 804.5,-538 798.5,-544 792.5,-544\"/>\n<text text-anchor=\"middle\" x=\"738.5\" y=\"-528.8\" font-family=\"Helvetica,sans-Serif\" font-size=\"14.00\" fill=\"#000000\">Age &lt;= 28.5</text>\n<text text-anchor=\"middle\" x=\"738.5\" y=\"-513.8\" font-family=\"Helvetica,sans-Serif\" font-size=\"14.00\" fill=\"#000000\">entropy = 0.99</text>\n<text text-anchor=\"middle\" x=\"738.5\" y=\"-498.8\" font-family=\"Helvetica,sans-Serif\" font-size=\"14.00\" fill=\"#000000\">samples = 235</text>\n<text text-anchor=\"middle\" x=\"738.5\" y=\"-483.8\" font-family=\"Helvetica,sans-Serif\" font-size=\"14.00\" fill=\"#000000\">value = [131, 104]</text>\n<text text-anchor=\"middle\" x=\"738.5\" y=\"-468.8\" font-family=\"Helvetica,sans-Serif\" font-size=\"14.00\" fill=\"#000000\">class = 0</text>\n</g>\n<!-- 4&#45;&gt;6 -->\n<g id=\"edge15\" class=\"edge\">\n<title>4&#45;&gt;6</title>\n<path fill=\"none\" stroke=\"#000000\" d=\"M641.613,-579.8796C653.5225,-570.368 666.2734,-560.1843 678.4844,-550.432\"/>\n<polygon fill=\"#000000\" stroke=\"#000000\" points=\"680.7868,-553.0724 686.4165,-544.0969 676.4184,-547.6027 680.7868,-553.0724\"/>\n</g>\n<!-- 9 -->\n<g id=\"node10\" class=\"node\">\n<title>9</title>\n<path fill=\"#e6843d\" stroke=\"#000000\" d=\"M361.5,-425C361.5,-425 275.5,-425 275.5,-425 269.5,-425 263.5,-419 263.5,-413 263.5,-413 263.5,-354 263.5,-354 263.5,-348 269.5,-342 275.5,-342 275.5,-342 361.5,-342 361.5,-342 367.5,-342 373.5,-348 373.5,-354 373.5,-354 373.5,-413 373.5,-413 373.5,-419 367.5,-425 361.5,-425\"/>\n<text text-anchor=\"middle\" x=\"318.5\" y=\"-409.8\" font-family=\"Helvetica,sans-Serif\" font-size=\"14.00\" fill=\"#000000\">BMI &lt;= 33.45</text>\n<text text-anchor=\"middle\" x=\"318.5\" y=\"-394.8\" font-family=\"Helvetica,sans-Serif\" font-size=\"14.00\" fill=\"#000000\">entropy = 0.15</text>\n<text text-anchor=\"middle\" x=\"318.5\" y=\"-379.8\" font-family=\"Helvetica,sans-Serif\" font-size=\"14.00\" fill=\"#000000\">samples = 46</text>\n<text text-anchor=\"middle\" x=\"318.5\" y=\"-364.8\" font-family=\"Helvetica,sans-Serif\" font-size=\"14.00\" fill=\"#000000\">value = [45, 1]</text>\n<text text-anchor=\"middle\" x=\"318.5\" y=\"-349.8\" font-family=\"Helvetica,sans-Serif\" font-size=\"14.00\" fill=\"#000000\">class = 0</text>\n</g>\n<!-- 5&#45;&gt;9 -->\n<g id=\"edge9\" class=\"edge\">\n<title>5&#45;&gt;9</title>\n<path fill=\"none\" stroke=\"#000000\" d=\"M466.2947,-468.8765C440.2126,-453.8097 409.3711,-435.9935 382.6273,-420.5444\"/>\n<polygon fill=\"#000000\" stroke=\"#000000\" points=\"384.1373,-417.3747 373.7275,-415.4033 380.6358,-423.4361 384.1373,-417.3747\"/>\n</g>\n<!-- 10 -->\n<g id=\"node13\" class=\"node\">\n<title>10</title>\n<path fill=\"#eda775\" stroke=\"#000000\" d=\"M595,-425C595,-425 454,-425 454,-425 448,-425 442,-419 442,-413 442,-413 442,-354 442,-354 442,-348 448,-342 454,-342 454,-342 595,-342 595,-342 601,-342 607,-348 607,-354 607,-354 607,-413 607,-413 607,-419 601,-425 595,-425\"/>\n<text text-anchor=\"middle\" x=\"524.5\" y=\"-409.8\" font-family=\"Helvetica,sans-Serif\" font-size=\"14.00\" fill=\"#000000\">BloodPressure &lt;= 73.0</text>\n<text text-anchor=\"middle\" x=\"524.5\" y=\"-394.8\" font-family=\"Helvetica,sans-Serif\" font-size=\"14.00\" fill=\"#000000\">entropy = 0.78</text>\n<text text-anchor=\"middle\" x=\"524.5\" y=\"-379.8\" font-family=\"Helvetica,sans-Serif\" font-size=\"14.00\" fill=\"#000000\">samples = 43</text>\n<text text-anchor=\"middle\" x=\"524.5\" y=\"-364.8\" font-family=\"Helvetica,sans-Serif\" font-size=\"14.00\" fill=\"#000000\">value = [33, 10]</text>\n<text text-anchor=\"middle\" x=\"524.5\" y=\"-349.8\" font-family=\"Helvetica,sans-Serif\" font-size=\"14.00\" fill=\"#000000\">class = 0</text>\n</g>\n<!-- 5&#45;&gt;10 -->\n<g id=\"edge12\" class=\"edge\">\n<title>5&#45;&gt;10</title>\n<path fill=\"none\" stroke=\"#000000\" d=\"M524.5,-460.8796C524.5,-452.6838 524.5,-443.9891 524.5,-435.5013\"/>\n<polygon fill=\"#000000\" stroke=\"#000000\" points=\"528.0001,-435.298 524.5,-425.2981 521.0001,-435.2981 528.0001,-435.298\"/>\n</g>\n<!-- 41 -->\n<g id=\"node11\" class=\"node\">\n<title>41</title>\n<path fill=\"#e58139\" stroke=\"#000000\" d=\"M208,-298.5C208,-298.5 125,-298.5 125,-298.5 119,-298.5 113,-292.5 113,-286.5 113,-286.5 113,-242.5 113,-242.5 113,-236.5 119,-230.5 125,-230.5 125,-230.5 208,-230.5 208,-230.5 214,-230.5 220,-236.5 220,-242.5 220,-242.5 220,-286.5 220,-286.5 220,-292.5 214,-298.5 208,-298.5\"/>\n<text text-anchor=\"middle\" x=\"166.5\" y=\"-283.3\" font-family=\"Helvetica,sans-Serif\" font-size=\"14.00\" fill=\"#000000\">entropy = 0.0</text>\n<text text-anchor=\"middle\" x=\"166.5\" y=\"-268.3\" font-family=\"Helvetica,sans-Serif\" font-size=\"14.00\" fill=\"#000000\">samples = 31</text>\n<text text-anchor=\"middle\" x=\"166.5\" y=\"-253.3\" font-family=\"Helvetica,sans-Serif\" font-size=\"14.00\" fill=\"#000000\">value = [31, 0]</text>\n<text text-anchor=\"middle\" x=\"166.5\" y=\"-238.3\" font-family=\"Helvetica,sans-Serif\" font-size=\"14.00\" fill=\"#000000\">class = 0</text>\n</g>\n<!-- 9&#45;&gt;41 -->\n<g id=\"edge10\" class=\"edge\">\n<title>9&#45;&gt;41</title>\n<path fill=\"none\" stroke=\"#000000\" d=\"M265.3378,-341.8796C250.1687,-330.0038 233.6616,-317.0804 218.5591,-305.2568\"/>\n<polygon fill=\"#000000\" stroke=\"#000000\" points=\"220.3624,-302.2236 210.3308,-298.8149 216.0472,-307.7353 220.3624,-302.2236\"/>\n</g>\n<!-- 42 -->\n<g id=\"node12\" class=\"node\">\n<title>42</title>\n<path fill=\"#e78a47\" stroke=\"#000000\" d=\"M336.5,-298.5C336.5,-298.5 250.5,-298.5 250.5,-298.5 244.5,-298.5 238.5,-292.5 238.5,-286.5 238.5,-286.5 238.5,-242.5 238.5,-242.5 238.5,-236.5 244.5,-230.5 250.5,-230.5 250.5,-230.5 336.5,-230.5 336.5,-230.5 342.5,-230.5 348.5,-236.5 348.5,-242.5 348.5,-242.5 348.5,-286.5 348.5,-286.5 348.5,-292.5 342.5,-298.5 336.5,-298.5\"/>\n<text text-anchor=\"middle\" x=\"293.5\" y=\"-283.3\" font-family=\"Helvetica,sans-Serif\" font-size=\"14.00\" fill=\"#000000\">entropy = 0.35</text>\n<text text-anchor=\"middle\" x=\"293.5\" y=\"-268.3\" font-family=\"Helvetica,sans-Serif\" font-size=\"14.00\" fill=\"#000000\">samples = 15</text>\n<text text-anchor=\"middle\" x=\"293.5\" y=\"-253.3\" font-family=\"Helvetica,sans-Serif\" font-size=\"14.00\" fill=\"#000000\">value = [14, 1]</text>\n<text text-anchor=\"middle\" x=\"293.5\" y=\"-238.3\" font-family=\"Helvetica,sans-Serif\" font-size=\"14.00\" fill=\"#000000\">class = 0</text>\n</g>\n<!-- 9&#45;&gt;42 -->\n<g id=\"edge11\" class=\"edge\">\n<title>9&#45;&gt;42</title>\n<path fill=\"none\" stroke=\"#000000\" d=\"M309.7562,-341.8796C307.5154,-331.2134 305.0971,-319.7021 302.8281,-308.9015\"/>\n<polygon fill=\"#000000\" stroke=\"#000000\" points=\"306.1903,-307.8817 300.709,-298.8149 299.3398,-309.3209 306.1903,-307.8817\"/>\n</g>\n<!-- 33 -->\n<g id=\"node14\" class=\"node\">\n<title>33</title>\n<path fill=\"#f4caac\" stroke=\"#000000\" d=\"M464.5,-298.5C464.5,-298.5 378.5,-298.5 378.5,-298.5 372.5,-298.5 366.5,-292.5 366.5,-286.5 366.5,-286.5 366.5,-242.5 366.5,-242.5 366.5,-236.5 372.5,-230.5 378.5,-230.5 378.5,-230.5 464.5,-230.5 464.5,-230.5 470.5,-230.5 476.5,-236.5 476.5,-242.5 476.5,-242.5 476.5,-286.5 476.5,-286.5 476.5,-292.5 470.5,-298.5 464.5,-298.5\"/>\n<text text-anchor=\"middle\" x=\"421.5\" y=\"-283.3\" font-family=\"Helvetica,sans-Serif\" font-size=\"14.00\" fill=\"#000000\">entropy = 0.95</text>\n<text text-anchor=\"middle\" x=\"421.5\" y=\"-268.3\" font-family=\"Helvetica,sans-Serif\" font-size=\"14.00\" fill=\"#000000\">samples = 19</text>\n<text text-anchor=\"middle\" x=\"421.5\" y=\"-253.3\" font-family=\"Helvetica,sans-Serif\" font-size=\"14.00\" fill=\"#000000\">value = [12, 7]</text>\n<text text-anchor=\"middle\" x=\"421.5\" y=\"-238.3\" font-family=\"Helvetica,sans-Serif\" font-size=\"14.00\" fill=\"#000000\">class = 0</text>\n</g>\n<!-- 10&#45;&gt;33 -->\n<g id=\"edge13\" class=\"edge\">\n<title>10&#45;&gt;33</title>\n<path fill=\"none\" stroke=\"#000000\" d=\"M488.4756,-341.8796C478.5773,-330.4436 467.8381,-318.0363 457.9178,-306.575\"/>\n<polygon fill=\"#000000\" stroke=\"#000000\" points=\"460.3921,-304.0855 451.2012,-298.8149 455.0993,-308.6666 460.3921,-304.0855\"/>\n</g>\n<!-- 34 -->\n<g id=\"node15\" class=\"node\">\n<title>34</title>\n<path fill=\"#e99355\" stroke=\"#000000\" d=\"M592.5,-298.5C592.5,-298.5 506.5,-298.5 506.5,-298.5 500.5,-298.5 494.5,-292.5 494.5,-286.5 494.5,-286.5 494.5,-242.5 494.5,-242.5 494.5,-236.5 500.5,-230.5 506.5,-230.5 506.5,-230.5 592.5,-230.5 592.5,-230.5 598.5,-230.5 604.5,-236.5 604.5,-242.5 604.5,-242.5 604.5,-286.5 604.5,-286.5 604.5,-292.5 598.5,-298.5 592.5,-298.5\"/>\n<text text-anchor=\"middle\" x=\"549.5\" y=\"-283.3\" font-family=\"Helvetica,sans-Serif\" font-size=\"14.00\" fill=\"#000000\">entropy = 0.54</text>\n<text text-anchor=\"middle\" x=\"549.5\" y=\"-268.3\" font-family=\"Helvetica,sans-Serif\" font-size=\"14.00\" fill=\"#000000\">samples = 24</text>\n<text text-anchor=\"middle\" x=\"549.5\" y=\"-253.3\" font-family=\"Helvetica,sans-Serif\" font-size=\"14.00\" fill=\"#000000\">value = [21, 3]</text>\n<text text-anchor=\"middle\" x=\"549.5\" y=\"-238.3\" font-family=\"Helvetica,sans-Serif\" font-size=\"14.00\" fill=\"#000000\">class = 0</text>\n</g>\n<!-- 10&#45;&gt;34 -->\n<g id=\"edge14\" class=\"edge\">\n<title>10&#45;&gt;34</title>\n<path fill=\"none\" stroke=\"#000000\" d=\"M533.2438,-341.8796C535.4846,-331.2134 537.9029,-319.7021 540.1719,-308.9015\"/>\n<polygon fill=\"#000000\" stroke=\"#000000\" points=\"543.6602,-309.3209 542.291,-298.8149 536.8097,-307.8817 543.6602,-309.3209\"/>\n</g>\n<!-- 7 -->\n<g id=\"node17\" class=\"node\">\n<title>7</title>\n<path fill=\"#f0b78e\" stroke=\"#000000\" d=\"M808.5,-425C808.5,-425 668.5,-425 668.5,-425 662.5,-425 656.5,-419 656.5,-413 656.5,-413 656.5,-354 656.5,-354 656.5,-348 662.5,-342 668.5,-342 668.5,-342 808.5,-342 808.5,-342 814.5,-342 820.5,-348 820.5,-354 820.5,-354 820.5,-413 820.5,-413 820.5,-419 814.5,-425 808.5,-425\"/>\n<text text-anchor=\"middle\" x=\"738.5\" y=\"-409.8\" font-family=\"Helvetica,sans-Serif\" font-size=\"14.00\" fill=\"#000000\">SkinThickness &lt;= 13.0</text>\n<text text-anchor=\"middle\" x=\"738.5\" y=\"-394.8\" font-family=\"Helvetica,sans-Serif\" font-size=\"14.00\" fill=\"#000000\">entropy = 0.88</text>\n<text text-anchor=\"middle\" x=\"738.5\" y=\"-379.8\" font-family=\"Helvetica,sans-Serif\" font-size=\"14.00\" fill=\"#000000\">samples = 93</text>\n<text text-anchor=\"middle\" x=\"738.5\" y=\"-364.8\" font-family=\"Helvetica,sans-Serif\" font-size=\"14.00\" fill=\"#000000\">value = [65, 28]</text>\n<text text-anchor=\"middle\" x=\"738.5\" y=\"-349.8\" font-family=\"Helvetica,sans-Serif\" font-size=\"14.00\" fill=\"#000000\">class = 0</text>\n</g>\n<!-- 6&#45;&gt;7 -->\n<g id=\"edge16\" class=\"edge\">\n<title>6&#45;&gt;7</title>\n<path fill=\"none\" stroke=\"#000000\" d=\"M738.5,-460.8796C738.5,-452.6838 738.5,-443.9891 738.5,-435.5013\"/>\n<polygon fill=\"#000000\" stroke=\"#000000\" points=\"742.0001,-435.298 738.5,-425.2981 735.0001,-435.2981 742.0001,-435.298\"/>\n</g>\n<!-- 8 -->\n<g id=\"node26\" class=\"node\">\n<title>8</title>\n<path fill=\"#e5f2fc\" stroke=\"#000000\" d=\"M1098.5,-425C1098.5,-425 880.5,-425 880.5,-425 874.5,-425 868.5,-419 868.5,-413 868.5,-413 868.5,-354 868.5,-354 868.5,-348 874.5,-342 880.5,-342 880.5,-342 1098.5,-342 1098.5,-342 1104.5,-342 1110.5,-348 1110.5,-354 1110.5,-354 1110.5,-413 1110.5,-413 1110.5,-419 1104.5,-425 1098.5,-425\"/>\n<text text-anchor=\"middle\" x=\"989.5\" y=\"-409.8\" font-family=\"Helvetica,sans-Serif\" font-size=\"14.00\" fill=\"#000000\">DiabetesPedigreeFunction &lt;= 0.51</text>\n<text text-anchor=\"middle\" x=\"989.5\" y=\"-394.8\" font-family=\"Helvetica,sans-Serif\" font-size=\"14.00\" fill=\"#000000\">entropy = 1.0</text>\n<text text-anchor=\"middle\" x=\"989.5\" y=\"-379.8\" font-family=\"Helvetica,sans-Serif\" font-size=\"14.00\" fill=\"#000000\">samples = 142</text>\n<text text-anchor=\"middle\" x=\"989.5\" y=\"-364.8\" font-family=\"Helvetica,sans-Serif\" font-size=\"14.00\" fill=\"#000000\">value = [66, 76]</text>\n<text text-anchor=\"middle\" x=\"989.5\" y=\"-349.8\" font-family=\"Helvetica,sans-Serif\" font-size=\"14.00\" fill=\"#000000\">class = 1</text>\n</g>\n<!-- 6&#45;&gt;8 -->\n<g id=\"edge25\" class=\"edge\">\n<title>6&#45;&gt;8</title>\n<path fill=\"none\" stroke=\"#000000\" d=\"M804.7756,-471.0785C831.5115,-458.4029 862.9003,-443.5214 892.1404,-429.6585\"/>\n<polygon fill=\"#000000\" stroke=\"#000000\" points=\"894.0133,-432.6441 901.5499,-425.1975 891.0145,-426.3189 894.0133,-432.6441\"/>\n</g>\n<!-- 19 -->\n<g id=\"node18\" class=\"node\">\n<title>19</title>\n<path fill=\"#bddef6\" stroke=\"#000000\" d=\"M720.5,-298.5C720.5,-298.5 634.5,-298.5 634.5,-298.5 628.5,-298.5 622.5,-292.5 622.5,-286.5 622.5,-286.5 622.5,-242.5 622.5,-242.5 622.5,-236.5 628.5,-230.5 634.5,-230.5 634.5,-230.5 720.5,-230.5 720.5,-230.5 726.5,-230.5 732.5,-236.5 732.5,-242.5 732.5,-242.5 732.5,-286.5 732.5,-286.5 732.5,-292.5 726.5,-298.5 720.5,-298.5\"/>\n<text text-anchor=\"middle\" x=\"677.5\" y=\"-283.3\" font-family=\"Helvetica,sans-Serif\" font-size=\"14.00\" fill=\"#000000\">entropy = 0.97</text>\n<text text-anchor=\"middle\" x=\"677.5\" y=\"-268.3\" font-family=\"Helvetica,sans-Serif\" font-size=\"14.00\" fill=\"#000000\">samples = 15</text>\n<text text-anchor=\"middle\" x=\"677.5\" y=\"-253.3\" font-family=\"Helvetica,sans-Serif\" font-size=\"14.00\" fill=\"#000000\">value = [6, 9]</text>\n<text text-anchor=\"middle\" x=\"677.5\" y=\"-238.3\" font-family=\"Helvetica,sans-Serif\" font-size=\"14.00\" fill=\"#000000\">class = 1</text>\n</g>\n<!-- 7&#45;&gt;19 -->\n<g id=\"edge17\" class=\"edge\">\n<title>7&#45;&gt;19</title>\n<path fill=\"none\" stroke=\"#000000\" d=\"M717.1652,-341.8796C711.5285,-330.8835 705.4315,-318.9893 699.7478,-307.9015\"/>\n<polygon fill=\"#000000\" stroke=\"#000000\" points=\"702.7663,-306.1173 695.09,-298.8149 696.5371,-309.3105 702.7663,-306.1173\"/>\n</g>\n<!-- 20 -->\n<g id=\"node19\" class=\"node\">\n<title>20</title>\n<path fill=\"#edaa79\" stroke=\"#000000\" d=\"M902.5,-306C902.5,-306 762.5,-306 762.5,-306 756.5,-306 750.5,-300 750.5,-294 750.5,-294 750.5,-235 750.5,-235 750.5,-229 756.5,-223 762.5,-223 762.5,-223 902.5,-223 902.5,-223 908.5,-223 914.5,-229 914.5,-235 914.5,-235 914.5,-294 914.5,-294 914.5,-300 908.5,-306 902.5,-306\"/>\n<text text-anchor=\"middle\" x=\"832.5\" y=\"-290.8\" font-family=\"Helvetica,sans-Serif\" font-size=\"14.00\" fill=\"#000000\">SkinThickness &lt;= 32.5</text>\n<text text-anchor=\"middle\" x=\"832.5\" y=\"-275.8\" font-family=\"Helvetica,sans-Serif\" font-size=\"14.00\" fill=\"#000000\">entropy = 0.8</text>\n<text text-anchor=\"middle\" x=\"832.5\" y=\"-260.8\" font-family=\"Helvetica,sans-Serif\" font-size=\"14.00\" fill=\"#000000\">samples = 78</text>\n<text text-anchor=\"middle\" x=\"832.5\" y=\"-245.8\" font-family=\"Helvetica,sans-Serif\" font-size=\"14.00\" fill=\"#000000\">value = [59, 19]</text>\n<text text-anchor=\"middle\" x=\"832.5\" y=\"-230.8\" font-family=\"Helvetica,sans-Serif\" font-size=\"14.00\" fill=\"#000000\">class = 0</text>\n</g>\n<!-- 7&#45;&gt;20 -->\n<g id=\"edge18\" class=\"edge\">\n<title>7&#45;&gt;20</title>\n<path fill=\"none\" stroke=\"#000000\" d=\"M771.3766,-341.8796C778.4197,-332.9633 785.9293,-323.4565 793.1874,-314.268\"/>\n<polygon fill=\"#000000\" stroke=\"#000000\" points=\"796.0309,-316.3147 799.483,-306.2981 790.5379,-311.9757 796.0309,-316.3147\"/>\n</g>\n<!-- 25 -->\n<g id=\"node20\" class=\"node\">\n<title>25</title>\n<path fill=\"#e9965a\" stroke=\"#000000\" d=\"M617.5,-187C617.5,-187 531.5,-187 531.5,-187 525.5,-187 519.5,-181 519.5,-175 519.5,-175 519.5,-116 519.5,-116 519.5,-110 525.5,-104 531.5,-104 531.5,-104 617.5,-104 617.5,-104 623.5,-104 629.5,-110 629.5,-116 629.5,-116 629.5,-175 629.5,-175 629.5,-181 623.5,-187 617.5,-187\"/>\n<text text-anchor=\"middle\" x=\"574.5\" y=\"-171.8\" font-family=\"Helvetica,sans-Serif\" font-size=\"14.00\" fill=\"#000000\">Age &lt;= 23.5</text>\n<text text-anchor=\"middle\" x=\"574.5\" y=\"-156.8\" font-family=\"Helvetica,sans-Serif\" font-size=\"14.00\" fill=\"#000000\">entropy = 0.59</text>\n<text text-anchor=\"middle\" x=\"574.5\" y=\"-141.8\" font-family=\"Helvetica,sans-Serif\" font-size=\"14.00\" fill=\"#000000\">samples = 42</text>\n<text text-anchor=\"middle\" x=\"574.5\" y=\"-126.8\" font-family=\"Helvetica,sans-Serif\" font-size=\"14.00\" fill=\"#000000\">value = [36, 6]</text>\n<text text-anchor=\"middle\" x=\"574.5\" y=\"-111.8\" font-family=\"Helvetica,sans-Serif\" font-size=\"14.00\" fill=\"#000000\">class = 0</text>\n</g>\n<!-- 20&#45;&gt;25 -->\n<g id=\"edge19\" class=\"edge\">\n<title>20&#45;&gt;25</title>\n<path fill=\"none\" stroke=\"#000000\" d=\"M750.1578,-226.5205C714.1667,-209.9199 672.5754,-190.7363 638.9006,-175.2041\"/>\n<polygon fill=\"#000000\" stroke=\"#000000\" points=\"640.1702,-171.9354 629.6237,-170.9253 637.2384,-178.2919 640.1702,-171.9354\"/>\n</g>\n<!-- 26 -->\n<g id=\"node23\" class=\"node\">\n<title>26</title>\n<path fill=\"#f4c8a9\" stroke=\"#000000\" d=\"M875.5,-187C875.5,-187 783.5,-187 783.5,-187 777.5,-187 771.5,-181 771.5,-175 771.5,-175 771.5,-116 771.5,-116 771.5,-110 777.5,-104 783.5,-104 783.5,-104 875.5,-104 875.5,-104 881.5,-104 887.5,-110 887.5,-116 887.5,-116 887.5,-175 887.5,-175 887.5,-181 881.5,-187 875.5,-187\"/>\n<text text-anchor=\"middle\" x=\"829.5\" y=\"-171.8\" font-family=\"Helvetica,sans-Serif\" font-size=\"14.00\" fill=\"#000000\">BMI &lt;= 36.0</text>\n<text text-anchor=\"middle\" x=\"829.5\" y=\"-156.8\" font-family=\"Helvetica,sans-Serif\" font-size=\"14.00\" fill=\"#000000\">entropy = 0.94</text>\n<text text-anchor=\"middle\" x=\"829.5\" y=\"-141.8\" font-family=\"Helvetica,sans-Serif\" font-size=\"14.00\" fill=\"#000000\">samples = 36</text>\n<text text-anchor=\"middle\" x=\"829.5\" y=\"-126.8\" font-family=\"Helvetica,sans-Serif\" font-size=\"14.00\" fill=\"#000000\">value = [23, 13]</text>\n<text text-anchor=\"middle\" x=\"829.5\" y=\"-111.8\" font-family=\"Helvetica,sans-Serif\" font-size=\"14.00\" fill=\"#000000\">class = 0</text>\n</g>\n<!-- 20&#45;&gt;26 -->\n<g id=\"edge22\" class=\"edge\">\n<title>20&#45;&gt;26</title>\n<path fill=\"none\" stroke=\"#000000\" d=\"M831.4507,-222.8796C831.2441,-214.6838 831.0249,-205.9891 830.811,-197.5013\"/>\n<polygon fill=\"#000000\" stroke=\"#000000\" points=\"834.3047,-197.2067 830.5537,-187.2981 827.307,-197.3831 834.3047,-197.2067\"/>\n</g>\n<!-- 27 -->\n<g id=\"node21\" class=\"node\">\n<title>27</title>\n<path fill=\"#e58139\" stroke=\"#000000\" d=\"M489,-68C489,-68 406,-68 406,-68 400,-68 394,-62 394,-56 394,-56 394,-12 394,-12 394,-6 400,0 406,0 406,0 489,0 489,0 495,0 501,-6 501,-12 501,-12 501,-56 501,-56 501,-62 495,-68 489,-68\"/>\n<text text-anchor=\"middle\" x=\"447.5\" y=\"-52.8\" font-family=\"Helvetica,sans-Serif\" font-size=\"14.00\" fill=\"#000000\">entropy = 0.0</text>\n<text text-anchor=\"middle\" x=\"447.5\" y=\"-37.8\" font-family=\"Helvetica,sans-Serif\" font-size=\"14.00\" fill=\"#000000\">samples = 18</text>\n<text text-anchor=\"middle\" x=\"447.5\" y=\"-22.8\" font-family=\"Helvetica,sans-Serif\" font-size=\"14.00\" fill=\"#000000\">value = [18, 0]</text>\n<text text-anchor=\"middle\" x=\"447.5\" y=\"-7.8\" font-family=\"Helvetica,sans-Serif\" font-size=\"14.00\" fill=\"#000000\">class = 0</text>\n</g>\n<!-- 25&#45;&gt;27 -->\n<g id=\"edge20\" class=\"edge\">\n<title>25&#45;&gt;27</title>\n<path fill=\"none\" stroke=\"#000000\" d=\"M527.2099,-103.9815C516.4275,-94.5151 504.977,-84.462 494.2187,-75.0168\"/>\n<polygon fill=\"#000000\" stroke=\"#000000\" points=\"496.3507,-72.2311 486.5268,-68.2637 491.7324,-77.4915 496.3507,-72.2311\"/>\n</g>\n<!-- 28 -->\n<g id=\"node22\" class=\"node\">\n<title>28</title>\n<path fill=\"#eeab7b\" stroke=\"#000000\" d=\"M617.5,-68C617.5,-68 531.5,-68 531.5,-68 525.5,-68 519.5,-62 519.5,-56 519.5,-56 519.5,-12 519.5,-12 519.5,-6 525.5,0 531.5,0 531.5,0 617.5,0 617.5,0 623.5,0 629.5,-6 629.5,-12 629.5,-12 629.5,-56 629.5,-56 629.5,-62 623.5,-68 617.5,-68\"/>\n<text text-anchor=\"middle\" x=\"574.5\" y=\"-52.8\" font-family=\"Helvetica,sans-Serif\" font-size=\"14.00\" fill=\"#000000\">entropy = 0.81</text>\n<text text-anchor=\"middle\" x=\"574.5\" y=\"-37.8\" font-family=\"Helvetica,sans-Serif\" font-size=\"14.00\" fill=\"#000000\">samples = 24</text>\n<text text-anchor=\"middle\" x=\"574.5\" y=\"-22.8\" font-family=\"Helvetica,sans-Serif\" font-size=\"14.00\" fill=\"#000000\">value = [18, 6]</text>\n<text text-anchor=\"middle\" x=\"574.5\" y=\"-7.8\" font-family=\"Helvetica,sans-Serif\" font-size=\"14.00\" fill=\"#000000\">class = 0</text>\n</g>\n<!-- 25&#45;&gt;28 -->\n<g id=\"edge21\" class=\"edge\">\n<title>25&#45;&gt;28</title>\n<path fill=\"none\" stroke=\"#000000\" d=\"M574.5,-103.9815C574.5,-95.618 574.5,-86.7965 574.5,-78.3409\"/>\n<polygon fill=\"#000000\" stroke=\"#000000\" points=\"578.0001,-78.2636 574.5,-68.2637 571.0001,-78.2637 578.0001,-78.2636\"/>\n</g>\n<!-- 29 -->\n<g id=\"node24\" class=\"node\">\n<title>29</title>\n<path fill=\"#bddef6\" stroke=\"#000000\" d=\"M745.5,-68C745.5,-68 659.5,-68 659.5,-68 653.5,-68 647.5,-62 647.5,-56 647.5,-56 647.5,-12 647.5,-12 647.5,-6 653.5,0 659.5,0 659.5,0 745.5,0 745.5,0 751.5,0 757.5,-6 757.5,-12 757.5,-12 757.5,-56 757.5,-56 757.5,-62 751.5,-68 745.5,-68\"/>\n<text text-anchor=\"middle\" x=\"702.5\" y=\"-52.8\" font-family=\"Helvetica,sans-Serif\" font-size=\"14.00\" fill=\"#000000\">entropy = 0.97</text>\n<text text-anchor=\"middle\" x=\"702.5\" y=\"-37.8\" font-family=\"Helvetica,sans-Serif\" font-size=\"14.00\" fill=\"#000000\">samples = 15</text>\n<text text-anchor=\"middle\" x=\"702.5\" y=\"-22.8\" font-family=\"Helvetica,sans-Serif\" font-size=\"14.00\" fill=\"#000000\">value = [6, 9]</text>\n<text text-anchor=\"middle\" x=\"702.5\" y=\"-7.8\" font-family=\"Helvetica,sans-Serif\" font-size=\"14.00\" fill=\"#000000\">class = 1</text>\n</g>\n<!-- 26&#45;&gt;29 -->\n<g id=\"edge23\" class=\"edge\">\n<title>26&#45;&gt;29</title>\n<path fill=\"none\" stroke=\"#000000\" d=\"M782.2099,-103.9815C771.4275,-94.5151 759.977,-84.462 749.2187,-75.0168\"/>\n<polygon fill=\"#000000\" stroke=\"#000000\" points=\"751.3507,-72.2311 741.5268,-68.2637 746.7324,-77.4915 751.3507,-72.2311\"/>\n</g>\n<!-- 30 -->\n<g id=\"node25\" class=\"node\">\n<title>30</title>\n<path fill=\"#eb9f68\" stroke=\"#000000\" d=\"M871,-68C871,-68 788,-68 788,-68 782,-68 776,-62 776,-56 776,-56 776,-12 776,-12 776,-6 782,0 788,0 788,0 871,0 871,0 877,0 883,-6 883,-12 883,-12 883,-56 883,-56 883,-62 877,-68 871,-68\"/>\n<text text-anchor=\"middle\" x=\"829.5\" y=\"-52.8\" font-family=\"Helvetica,sans-Serif\" font-size=\"14.00\" fill=\"#000000\">entropy = 0.7</text>\n<text text-anchor=\"middle\" x=\"829.5\" y=\"-37.8\" font-family=\"Helvetica,sans-Serif\" font-size=\"14.00\" fill=\"#000000\">samples = 21</text>\n<text text-anchor=\"middle\" x=\"829.5\" y=\"-22.8\" font-family=\"Helvetica,sans-Serif\" font-size=\"14.00\" fill=\"#000000\">value = [17, 4]</text>\n<text text-anchor=\"middle\" x=\"829.5\" y=\"-7.8\" font-family=\"Helvetica,sans-Serif\" font-size=\"14.00\" fill=\"#000000\">class = 0</text>\n</g>\n<!-- 26&#45;&gt;30 -->\n<g id=\"edge24\" class=\"edge\">\n<title>26&#45;&gt;30</title>\n<path fill=\"none\" stroke=\"#000000\" d=\"M829.5,-103.9815C829.5,-95.618 829.5,-86.7965 829.5,-78.3409\"/>\n<polygon fill=\"#000000\" stroke=\"#000000\" points=\"833.0001,-78.2636 829.5,-68.2637 826.0001,-78.2637 833.0001,-78.2636\"/>\n</g>\n<!-- 15 -->\n<g id=\"node27\" class=\"node\">\n<title>15</title>\n<path fill=\"#f9e4d5\" stroke=\"#000000\" d=\"M1090.5,-306C1090.5,-306 950.5,-306 950.5,-306 944.5,-306 938.5,-300 938.5,-294 938.5,-294 938.5,-235 938.5,-235 938.5,-229 944.5,-223 950.5,-223 950.5,-223 1090.5,-223 1090.5,-223 1096.5,-223 1102.5,-229 1102.5,-235 1102.5,-235 1102.5,-294 1102.5,-294 1102.5,-300 1096.5,-306 1090.5,-306\"/>\n<text text-anchor=\"middle\" x=\"1020.5\" y=\"-290.8\" font-family=\"Helvetica,sans-Serif\" font-size=\"14.00\" fill=\"#000000\">SkinThickness &lt;= 26.5</text>\n<text text-anchor=\"middle\" x=\"1020.5\" y=\"-275.8\" font-family=\"Helvetica,sans-Serif\" font-size=\"14.00\" fill=\"#000000\">entropy = 0.99</text>\n<text text-anchor=\"middle\" x=\"1020.5\" y=\"-260.8\" font-family=\"Helvetica,sans-Serif\" font-size=\"14.00\" fill=\"#000000\">samples = 84</text>\n<text text-anchor=\"middle\" x=\"1020.5\" y=\"-245.8\" font-family=\"Helvetica,sans-Serif\" font-size=\"14.00\" fill=\"#000000\">value = [47, 37]</text>\n<text text-anchor=\"middle\" x=\"1020.5\" y=\"-230.8\" font-family=\"Helvetica,sans-Serif\" font-size=\"14.00\" fill=\"#000000\">class = 0</text>\n</g>\n<!-- 8&#45;&gt;15 -->\n<g id=\"edge26\" class=\"edge\">\n<title>8&#45;&gt;15</title>\n<path fill=\"none\" stroke=\"#000000\" d=\"M1000.3423,-341.8796C1002.5008,-333.5938 1004.7921,-324.798 1007.0263,-316.2216\"/>\n<polygon fill=\"#000000\" stroke=\"#000000\" points=\"1010.4774,-316.8575 1009.6114,-306.2981 1003.7035,-315.0928 1010.4774,-316.8575\"/>\n</g>\n<!-- 16 -->\n<g id=\"node34\" class=\"node\">\n<title>16</title>\n<path fill=\"#99cdf2\" stroke=\"#000000\" d=\"M1416.5,-306C1416.5,-306 1324.5,-306 1324.5,-306 1318.5,-306 1312.5,-300 1312.5,-294 1312.5,-294 1312.5,-235 1312.5,-235 1312.5,-229 1318.5,-223 1324.5,-223 1324.5,-223 1416.5,-223 1416.5,-223 1422.5,-223 1428.5,-229 1428.5,-235 1428.5,-235 1428.5,-294 1428.5,-294 1428.5,-300 1422.5,-306 1416.5,-306\"/>\n<text text-anchor=\"middle\" x=\"1370.5\" y=\"-290.8\" font-family=\"Helvetica,sans-Serif\" font-size=\"14.00\" fill=\"#000000\">BMI &lt;= 31.4</text>\n<text text-anchor=\"middle\" x=\"1370.5\" y=\"-275.8\" font-family=\"Helvetica,sans-Serif\" font-size=\"14.00\" fill=\"#000000\">entropy = 0.91</text>\n<text text-anchor=\"middle\" x=\"1370.5\" y=\"-260.8\" font-family=\"Helvetica,sans-Serif\" font-size=\"14.00\" fill=\"#000000\">samples = 58</text>\n<text text-anchor=\"middle\" x=\"1370.5\" y=\"-245.8\" font-family=\"Helvetica,sans-Serif\" font-size=\"14.00\" fill=\"#000000\">value = [19, 39]</text>\n<text text-anchor=\"middle\" x=\"1370.5\" y=\"-230.8\" font-family=\"Helvetica,sans-Serif\" font-size=\"14.00\" fill=\"#000000\">class = 1</text>\n</g>\n<!-- 8&#45;&gt;16 -->\n<g id=\"edge33\" class=\"edge\">\n<title>8&#45;&gt;16</title>\n<path fill=\"none\" stroke=\"#000000\" d=\"M1110.8233,-345.0365C1114.0825,-344.0125 1117.3129,-342.9988 1120.5,-342 1182.0861,-322.6993 1252.2885,-300.9595 1302.5893,-285.428\"/>\n<polygon fill=\"#000000\" stroke=\"#000000\" points=\"1303.853,-288.701 1312.3757,-282.4071 1301.7882,-282.0124 1303.853,-288.701\"/>\n</g>\n<!-- 35 -->\n<g id=\"node28\" class=\"node\">\n<title>35</title>\n<path fill=\"#eff7fd\" stroke=\"#000000\" d=\"M1091,-187C1091,-187 950,-187 950,-187 944,-187 938,-181 938,-175 938,-175 938,-116 938,-116 938,-110 944,-104 950,-104 950,-104 1091,-104 1091,-104 1097,-104 1103,-110 1103,-116 1103,-116 1103,-175 1103,-175 1103,-181 1097,-187 1091,-187\"/>\n<text text-anchor=\"middle\" x=\"1020.5\" y=\"-171.8\" font-family=\"Helvetica,sans-Serif\" font-size=\"14.00\" fill=\"#000000\">BloodPressure &lt;= 77.0</text>\n<text text-anchor=\"middle\" x=\"1020.5\" y=\"-156.8\" font-family=\"Helvetica,sans-Serif\" font-size=\"14.00\" fill=\"#000000\">entropy = 1.0</text>\n<text text-anchor=\"middle\" x=\"1020.5\" y=\"-141.8\" font-family=\"Helvetica,sans-Serif\" font-size=\"14.00\" fill=\"#000000\">samples = 46</text>\n<text text-anchor=\"middle\" x=\"1020.5\" y=\"-126.8\" font-family=\"Helvetica,sans-Serif\" font-size=\"14.00\" fill=\"#000000\">value = [22, 24]</text>\n<text text-anchor=\"middle\" x=\"1020.5\" y=\"-111.8\" font-family=\"Helvetica,sans-Serif\" font-size=\"14.00\" fill=\"#000000\">class = 1</text>\n</g>\n<!-- 15&#45;&gt;35 -->\n<g id=\"edge27\" class=\"edge\">\n<title>15&#45;&gt;35</title>\n<path fill=\"none\" stroke=\"#000000\" d=\"M1020.5,-222.8796C1020.5,-214.6838 1020.5,-205.9891 1020.5,-197.5013\"/>\n<polygon fill=\"#000000\" stroke=\"#000000\" points=\"1024.0001,-197.298 1020.5,-187.2981 1017.0001,-197.2981 1024.0001,-197.298\"/>\n</g>\n<!-- 36 -->\n<g id=\"node31\" class=\"node\">\n<title>36</title>\n<path fill=\"#f3c3a0\" stroke=\"#000000\" d=\"M1285,-187C1285,-187 1144,-187 1144,-187 1138,-187 1132,-181 1132,-175 1132,-175 1132,-116 1132,-116 1132,-110 1138,-104 1144,-104 1144,-104 1285,-104 1285,-104 1291,-104 1297,-110 1297,-116 1297,-116 1297,-175 1297,-175 1297,-181 1291,-187 1285,-187\"/>\n<text text-anchor=\"middle\" x=\"1214.5\" y=\"-171.8\" font-family=\"Helvetica,sans-Serif\" font-size=\"14.00\" fill=\"#000000\">BloodPressure &lt;= 79.0</text>\n<text text-anchor=\"middle\" x=\"1214.5\" y=\"-156.8\" font-family=\"Helvetica,sans-Serif\" font-size=\"14.00\" fill=\"#000000\">entropy = 0.93</text>\n<text text-anchor=\"middle\" x=\"1214.5\" y=\"-141.8\" font-family=\"Helvetica,sans-Serif\" font-size=\"14.00\" fill=\"#000000\">samples = 38</text>\n<text text-anchor=\"middle\" x=\"1214.5\" y=\"-126.8\" font-family=\"Helvetica,sans-Serif\" font-size=\"14.00\" fill=\"#000000\">value = [25, 13]</text>\n<text text-anchor=\"middle\" x=\"1214.5\" y=\"-111.8\" font-family=\"Helvetica,sans-Serif\" font-size=\"14.00\" fill=\"#000000\">class = 0</text>\n</g>\n<!-- 15&#45;&gt;36 -->\n<g id=\"edge30\" class=\"edge\">\n<title>15&#45;&gt;36</title>\n<path fill=\"none\" stroke=\"#000000\" d=\"M1088.3518,-222.8796C1104.3011,-213.0962 1121.4096,-202.6019 1137.7198,-192.5971\"/>\n<polygon fill=\"#000000\" stroke=\"#000000\" points=\"1139.9925,-195.3091 1146.6865,-187.0969 1136.3323,-189.3422 1139.9925,-195.3091\"/>\n</g>\n<!-- 39 -->\n<g id=\"node29\" class=\"node\">\n<title>39</title>\n<path fill=\"#a7d3f3\" stroke=\"#000000\" d=\"M1005.5,-68C1005.5,-68 913.5,-68 913.5,-68 907.5,-68 901.5,-62 901.5,-56 901.5,-56 901.5,-12 901.5,-12 901.5,-6 907.5,0 913.5,0 913.5,0 1005.5,0 1005.5,0 1011.5,0 1017.5,-6 1017.5,-12 1017.5,-12 1017.5,-56 1017.5,-56 1017.5,-62 1011.5,-68 1005.5,-68\"/>\n<text text-anchor=\"middle\" x=\"959.5\" y=\"-52.8\" font-family=\"Helvetica,sans-Serif\" font-size=\"14.00\" fill=\"#000000\">entropy = 0.94</text>\n<text text-anchor=\"middle\" x=\"959.5\" y=\"-37.8\" font-family=\"Helvetica,sans-Serif\" font-size=\"14.00\" fill=\"#000000\">samples = 28</text>\n<text text-anchor=\"middle\" x=\"959.5\" y=\"-22.8\" font-family=\"Helvetica,sans-Serif\" font-size=\"14.00\" fill=\"#000000\">value = [10, 18]</text>\n<text text-anchor=\"middle\" x=\"959.5\" y=\"-7.8\" font-family=\"Helvetica,sans-Serif\" font-size=\"14.00\" fill=\"#000000\">class = 1</text>\n</g>\n<!-- 35&#45;&gt;39 -->\n<g id=\"edge28\" class=\"edge\">\n<title>35&#45;&gt;39</title>\n<path fill=\"none\" stroke=\"#000000\" d=\"M997.7859,-103.9815C993.0092,-95.2504 987.9595,-86.0202 983.1494,-77.2281\"/>\n<polygon fill=\"#000000\" stroke=\"#000000\" points=\"986.1153,-75.3568 978.2451,-68.2637 979.9742,-78.7165 986.1153,-75.3568\"/>\n</g>\n<!-- 40 -->\n<g id=\"node30\" class=\"node\">\n<title>40</title>\n<path fill=\"#f2c09c\" stroke=\"#000000\" d=\"M1133.5,-68C1133.5,-68 1047.5,-68 1047.5,-68 1041.5,-68 1035.5,-62 1035.5,-56 1035.5,-56 1035.5,-12 1035.5,-12 1035.5,-6 1041.5,0 1047.5,0 1047.5,0 1133.5,0 1133.5,0 1139.5,0 1145.5,-6 1145.5,-12 1145.5,-12 1145.5,-56 1145.5,-56 1145.5,-62 1139.5,-68 1133.5,-68\"/>\n<text text-anchor=\"middle\" x=\"1090.5\" y=\"-52.8\" font-family=\"Helvetica,sans-Serif\" font-size=\"14.00\" fill=\"#000000\">entropy = 0.92</text>\n<text text-anchor=\"middle\" x=\"1090.5\" y=\"-37.8\" font-family=\"Helvetica,sans-Serif\" font-size=\"14.00\" fill=\"#000000\">samples = 18</text>\n<text text-anchor=\"middle\" x=\"1090.5\" y=\"-22.8\" font-family=\"Helvetica,sans-Serif\" font-size=\"14.00\" fill=\"#000000\">value = [12, 6]</text>\n<text text-anchor=\"middle\" x=\"1090.5\" y=\"-7.8\" font-family=\"Helvetica,sans-Serif\" font-size=\"14.00\" fill=\"#000000\">class = 0</text>\n</g>\n<!-- 35&#45;&gt;40 -->\n<g id=\"edge29\" class=\"edge\">\n<title>35&#45;&gt;40</title>\n<path fill=\"none\" stroke=\"#000000\" d=\"M1046.5654,-103.9815C1052.1045,-95.1585 1057.9636,-85.8258 1063.5355,-76.9506\"/>\n<polygon fill=\"#000000\" stroke=\"#000000\" points=\"1066.6363,-78.594 1068.9892,-68.2637 1060.7078,-74.872 1066.6363,-78.594\"/>\n</g>\n<!-- 37 -->\n<g id=\"node32\" class=\"node\">\n<title>37</title>\n<path fill=\"#eb9f68\" stroke=\"#000000\" d=\"M1259,-68C1259,-68 1176,-68 1176,-68 1170,-68 1164,-62 1164,-56 1164,-56 1164,-12 1164,-12 1164,-6 1170,0 1176,0 1176,0 1259,0 1259,0 1265,0 1271,-6 1271,-12 1271,-12 1271,-56 1271,-56 1271,-62 1265,-68 1259,-68\"/>\n<text text-anchor=\"middle\" x=\"1217.5\" y=\"-52.8\" font-family=\"Helvetica,sans-Serif\" font-size=\"14.00\" fill=\"#000000\">entropy = 0.7</text>\n<text text-anchor=\"middle\" x=\"1217.5\" y=\"-37.8\" font-family=\"Helvetica,sans-Serif\" font-size=\"14.00\" fill=\"#000000\">samples = 21</text>\n<text text-anchor=\"middle\" x=\"1217.5\" y=\"-22.8\" font-family=\"Helvetica,sans-Serif\" font-size=\"14.00\" fill=\"#000000\">value = [17, 4]</text>\n<text text-anchor=\"middle\" x=\"1217.5\" y=\"-7.8\" font-family=\"Helvetica,sans-Serif\" font-size=\"14.00\" fill=\"#000000\">class = 0</text>\n</g>\n<!-- 36&#45;&gt;37 -->\n<g id=\"edge31\" class=\"edge\">\n<title>36&#45;&gt;37</title>\n<path fill=\"none\" stroke=\"#000000\" d=\"M1215.6171,-103.9815C1215.8421,-95.618 1216.0795,-86.7965 1216.307,-78.3409\"/>\n<polygon fill=\"#000000\" stroke=\"#000000\" points=\"1219.8078,-78.3542 1216.5781,-68.2637 1212.8103,-78.1659 1219.8078,-78.3542\"/>\n</g>\n<!-- 38 -->\n<g id=\"node33\" class=\"node\">\n<title>38</title>\n<path fill=\"#e9f4fc\" stroke=\"#000000\" d=\"M1381.5,-68C1381.5,-68 1301.5,-68 1301.5,-68 1295.5,-68 1289.5,-62 1289.5,-56 1289.5,-56 1289.5,-12 1289.5,-12 1289.5,-6 1295.5,0 1301.5,0 1301.5,0 1381.5,0 1381.5,0 1387.5,0 1393.5,-6 1393.5,-12 1393.5,-12 1393.5,-56 1393.5,-56 1393.5,-62 1387.5,-68 1381.5,-68\"/>\n<text text-anchor=\"middle\" x=\"1341.5\" y=\"-52.8\" font-family=\"Helvetica,sans-Serif\" font-size=\"14.00\" fill=\"#000000\">entropy = 1.0</text>\n<text text-anchor=\"middle\" x=\"1341.5\" y=\"-37.8\" font-family=\"Helvetica,sans-Serif\" font-size=\"14.00\" fill=\"#000000\">samples = 17</text>\n<text text-anchor=\"middle\" x=\"1341.5\" y=\"-22.8\" font-family=\"Helvetica,sans-Serif\" font-size=\"14.00\" fill=\"#000000\">value = [8, 9]</text>\n<text text-anchor=\"middle\" x=\"1341.5\" y=\"-7.8\" font-family=\"Helvetica,sans-Serif\" font-size=\"14.00\" fill=\"#000000\">class = 1</text>\n</g>\n<!-- 36&#45;&gt;38 -->\n<g id=\"edge32\" class=\"edge\">\n<title>36&#45;&gt;38</title>\n<path fill=\"none\" stroke=\"#000000\" d=\"M1261.7901,-103.9815C1272.5725,-94.5151 1284.023,-84.462 1294.7813,-75.0168\"/>\n<polygon fill=\"#000000\" stroke=\"#000000\" points=\"1297.2676,-77.4915 1302.4732,-68.2637 1292.6493,-72.2311 1297.2676,-77.4915\"/>\n</g>\n<!-- 17 -->\n<g id=\"node35\" class=\"node\">\n<title>17</title>\n<path fill=\"#f8ddc9\" stroke=\"#000000\" d=\"M1413.5,-179.5C1413.5,-179.5 1327.5,-179.5 1327.5,-179.5 1321.5,-179.5 1315.5,-173.5 1315.5,-167.5 1315.5,-167.5 1315.5,-123.5 1315.5,-123.5 1315.5,-117.5 1321.5,-111.5 1327.5,-111.5 1327.5,-111.5 1413.5,-111.5 1413.5,-111.5 1419.5,-111.5 1425.5,-117.5 1425.5,-123.5 1425.5,-123.5 1425.5,-167.5 1425.5,-167.5 1425.5,-173.5 1419.5,-179.5 1413.5,-179.5\"/>\n<text text-anchor=\"middle\" x=\"1370.5\" y=\"-164.3\" font-family=\"Helvetica,sans-Serif\" font-size=\"14.00\" fill=\"#000000\">entropy = 0.98</text>\n<text text-anchor=\"middle\" x=\"1370.5\" y=\"-149.3\" font-family=\"Helvetica,sans-Serif\" font-size=\"14.00\" fill=\"#000000\">samples = 19</text>\n<text text-anchor=\"middle\" x=\"1370.5\" y=\"-134.3\" font-family=\"Helvetica,sans-Serif\" font-size=\"14.00\" fill=\"#000000\">value = [11, 8]</text>\n<text text-anchor=\"middle\" x=\"1370.5\" y=\"-119.3\" font-family=\"Helvetica,sans-Serif\" font-size=\"14.00\" fill=\"#000000\">class = 0</text>\n</g>\n<!-- 16&#45;&gt;17 -->\n<g id=\"edge34\" class=\"edge\">\n<title>16&#45;&gt;17</title>\n<path fill=\"none\" stroke=\"#000000\" d=\"M1370.5,-222.8796C1370.5,-212.2134 1370.5,-200.7021 1370.5,-189.9015\"/>\n<polygon fill=\"#000000\" stroke=\"#000000\" points=\"1374.0001,-189.8149 1370.5,-179.8149 1367.0001,-189.815 1374.0001,-189.8149\"/>\n</g>\n<!-- 18 -->\n<g id=\"node36\" class=\"node\">\n<title>18</title>\n<path fill=\"#6cb6ec\" stroke=\"#000000\" d=\"M1595.5,-187C1595.5,-187 1455.5,-187 1455.5,-187 1449.5,-187 1443.5,-181 1443.5,-175 1443.5,-175 1443.5,-116 1443.5,-116 1443.5,-110 1449.5,-104 1455.5,-104 1455.5,-104 1595.5,-104 1595.5,-104 1601.5,-104 1607.5,-110 1607.5,-116 1607.5,-116 1607.5,-175 1607.5,-175 1607.5,-181 1601.5,-187 1595.5,-187\"/>\n<text text-anchor=\"middle\" x=\"1525.5\" y=\"-171.8\" font-family=\"Helvetica,sans-Serif\" font-size=\"14.00\" fill=\"#000000\">SkinThickness &lt;= 28.5</text>\n<text text-anchor=\"middle\" x=\"1525.5\" y=\"-156.8\" font-family=\"Helvetica,sans-Serif\" font-size=\"14.00\" fill=\"#000000\">entropy = 0.73</text>\n<text text-anchor=\"middle\" x=\"1525.5\" y=\"-141.8\" font-family=\"Helvetica,sans-Serif\" font-size=\"14.00\" fill=\"#000000\">samples = 39</text>\n<text text-anchor=\"middle\" x=\"1525.5\" y=\"-126.8\" font-family=\"Helvetica,sans-Serif\" font-size=\"14.00\" fill=\"#000000\">value = [8, 31]</text>\n<text text-anchor=\"middle\" x=\"1525.5\" y=\"-111.8\" font-family=\"Helvetica,sans-Serif\" font-size=\"14.00\" fill=\"#000000\">class = 1</text>\n</g>\n<!-- 16&#45;&gt;18 -->\n<g id=\"edge35\" class=\"edge\">\n<title>16&#45;&gt;18</title>\n<path fill=\"none\" stroke=\"#000000\" d=\"M1424.7115,-222.8796C1437.1006,-213.368 1450.3649,-203.1843 1463.0676,-193.432\"/>\n<polygon fill=\"#000000\" stroke=\"#000000\" points=\"1465.5186,-195.9628 1471.3191,-187.0969 1461.2558,-190.4105 1465.5186,-195.9628\"/>\n</g>\n<!-- 23 -->\n<g id=\"node37\" class=\"node\">\n<title>23</title>\n<path fill=\"#bddef6\" stroke=\"#000000\" d=\"M1539.5,-68C1539.5,-68 1453.5,-68 1453.5,-68 1447.5,-68 1441.5,-62 1441.5,-56 1441.5,-56 1441.5,-12 1441.5,-12 1441.5,-6 1447.5,0 1453.5,0 1453.5,0 1539.5,0 1539.5,0 1545.5,0 1551.5,-6 1551.5,-12 1551.5,-12 1551.5,-56 1551.5,-56 1551.5,-62 1545.5,-68 1539.5,-68\"/>\n<text text-anchor=\"middle\" x=\"1496.5\" y=\"-52.8\" font-family=\"Helvetica,sans-Serif\" font-size=\"14.00\" fill=\"#000000\">entropy = 0.97</text>\n<text text-anchor=\"middle\" x=\"1496.5\" y=\"-37.8\" font-family=\"Helvetica,sans-Serif\" font-size=\"14.00\" fill=\"#000000\">samples = 15</text>\n<text text-anchor=\"middle\" x=\"1496.5\" y=\"-22.8\" font-family=\"Helvetica,sans-Serif\" font-size=\"14.00\" fill=\"#000000\">value = [6, 9]</text>\n<text text-anchor=\"middle\" x=\"1496.5\" y=\"-7.8\" font-family=\"Helvetica,sans-Serif\" font-size=\"14.00\" fill=\"#000000\">class = 1</text>\n</g>\n<!-- 18&#45;&gt;23 -->\n<g id=\"edge36\" class=\"edge\">\n<title>18&#45;&gt;23</title>\n<path fill=\"none\" stroke=\"#000000\" d=\"M1514.7015,-103.9815C1512.5023,-95.5261 1510.1814,-86.6026 1507.9601,-78.0623\"/>\n<polygon fill=\"#000000\" stroke=\"#000000\" points=\"1511.3162,-77.0607 1505.4116,-68.2637 1504.5415,-78.8227 1511.3162,-77.0607\"/>\n</g>\n<!-- 24 -->\n<g id=\"node38\" class=\"node\">\n<title>24</title>\n<path fill=\"#4ba6e7\" stroke=\"#000000\" d=\"M1667.5,-68C1667.5,-68 1581.5,-68 1581.5,-68 1575.5,-68 1569.5,-62 1569.5,-56 1569.5,-56 1569.5,-12 1569.5,-12 1569.5,-6 1575.5,0 1581.5,0 1581.5,0 1667.5,0 1667.5,0 1673.5,0 1679.5,-6 1679.5,-12 1679.5,-12 1679.5,-56 1679.5,-56 1679.5,-62 1673.5,-68 1667.5,-68\"/>\n<text text-anchor=\"middle\" x=\"1624.5\" y=\"-52.8\" font-family=\"Helvetica,sans-Serif\" font-size=\"14.00\" fill=\"#000000\">entropy = 0.41</text>\n<text text-anchor=\"middle\" x=\"1624.5\" y=\"-37.8\" font-family=\"Helvetica,sans-Serif\" font-size=\"14.00\" fill=\"#000000\">samples = 24</text>\n<text text-anchor=\"middle\" x=\"1624.5\" y=\"-22.8\" font-family=\"Helvetica,sans-Serif\" font-size=\"14.00\" fill=\"#000000\">value = [2, 22]</text>\n<text text-anchor=\"middle\" x=\"1624.5\" y=\"-7.8\" font-family=\"Helvetica,sans-Serif\" font-size=\"14.00\" fill=\"#000000\">class = 1</text>\n</g>\n<!-- 18&#45;&gt;24 -->\n<g id=\"edge37\" class=\"edge\">\n<title>18&#45;&gt;24</title>\n<path fill=\"none\" stroke=\"#000000\" d=\"M1562.3639,-103.9815C1570.5243,-94.7908 1579.1756,-85.0472 1587.3474,-75.8436\"/>\n<polygon fill=\"#000000\" stroke=\"#000000\" points=\"1590.0553,-78.0653 1594.0775,-68.2637 1584.8208,-73.4177 1590.0553,-78.0653\"/>\n</g>\n<!-- 11 -->\n<g id=\"node40\" class=\"node\">\n<title>11</title>\n<path fill=\"#b5daf5\" stroke=\"#000000\" d=\"M962.5,-655.5C962.5,-655.5 870.5,-655.5 870.5,-655.5 864.5,-655.5 858.5,-649.5 858.5,-643.5 858.5,-643.5 858.5,-599.5 858.5,-599.5 858.5,-593.5 864.5,-587.5 870.5,-587.5 870.5,-587.5 962.5,-587.5 962.5,-587.5 968.5,-587.5 974.5,-593.5 974.5,-599.5 974.5,-599.5 974.5,-643.5 974.5,-643.5 974.5,-649.5 968.5,-655.5 962.5,-655.5\"/>\n<text text-anchor=\"middle\" x=\"916.5\" y=\"-640.3\" font-family=\"Helvetica,sans-Serif\" font-size=\"14.00\" fill=\"#000000\">entropy = 0.96</text>\n<text text-anchor=\"middle\" x=\"916.5\" y=\"-625.3\" font-family=\"Helvetica,sans-Serif\" font-size=\"14.00\" fill=\"#000000\">samples = 26</text>\n<text text-anchor=\"middle\" x=\"916.5\" y=\"-610.3\" font-family=\"Helvetica,sans-Serif\" font-size=\"14.00\" fill=\"#000000\">value = [10, 16]</text>\n<text text-anchor=\"middle\" x=\"916.5\" y=\"-595.3\" font-family=\"Helvetica,sans-Serif\" font-size=\"14.00\" fill=\"#000000\">class = 1</text>\n</g>\n<!-- 2&#45;&gt;11 -->\n<g id=\"edge39\" class=\"edge\">\n<title>2&#45;&gt;11</title>\n<path fill=\"none\" stroke=\"#000000\" d=\"M916.5,-698.8796C916.5,-688.2134 916.5,-676.7021 916.5,-665.9015\"/>\n<polygon fill=\"#000000\" stroke=\"#000000\" points=\"920.0001,-665.8149 916.5,-655.8149 913.0001,-665.815 920.0001,-665.8149\"/>\n</g>\n<!-- 12 -->\n<g id=\"node41\" class=\"node\">\n<title>12</title>\n<path fill=\"#51a9e8\" stroke=\"#000000\" d=\"M1230,-663C1230,-663 1135,-663 1135,-663 1129,-663 1123,-657 1123,-651 1123,-651 1123,-592 1123,-592 1123,-586 1129,-580 1135,-580 1135,-580 1230,-580 1230,-580 1236,-580 1242,-586 1242,-592 1242,-592 1242,-651 1242,-651 1242,-657 1236,-663 1230,-663\"/>\n<text text-anchor=\"middle\" x=\"1182.5\" y=\"-647.8\" font-family=\"Helvetica,sans-Serif\" font-size=\"14.00\" fill=\"#000000\">Insulin &lt;= 257.0</text>\n<text text-anchor=\"middle\" x=\"1182.5\" y=\"-632.8\" font-family=\"Helvetica,sans-Serif\" font-size=\"14.00\" fill=\"#000000\">entropy = 0.49</text>\n<text text-anchor=\"middle\" x=\"1182.5\" y=\"-617.8\" font-family=\"Helvetica,sans-Serif\" font-size=\"14.00\" fill=\"#000000\">samples = 56</text>\n<text text-anchor=\"middle\" x=\"1182.5\" y=\"-602.8\" font-family=\"Helvetica,sans-Serif\" font-size=\"14.00\" fill=\"#000000\">value = [6, 50]</text>\n<text text-anchor=\"middle\" x=\"1182.5\" y=\"-587.8\" font-family=\"Helvetica,sans-Serif\" font-size=\"14.00\" fill=\"#000000\">class = 1</text>\n</g>\n<!-- 2&#45;&gt;12 -->\n<g id=\"edge40\" class=\"edge\">\n<title>2&#45;&gt;12</title>\n<path fill=\"none\" stroke=\"#000000\" d=\"M1009.5339,-698.8796C1043.7596,-683.5681 1081.8781,-666.5151 1113.6016,-652.323\"/>\n<polygon fill=\"#000000\" stroke=\"#000000\" points=\"1115.1003,-655.4868 1122.7992,-648.2082 1112.2417,-649.0971 1115.1003,-655.4868\"/>\n</g>\n<!-- 13 -->\n<g id=\"node42\" class=\"node\">\n<title>13</title>\n<path fill=\"#3e9fe6\" stroke=\"#000000\" d=\"M1236,-544C1236,-544 1129,-544 1129,-544 1123,-544 1117,-538 1117,-532 1117,-532 1117,-473 1117,-473 1117,-467 1123,-461 1129,-461 1129,-461 1236,-461 1236,-461 1242,-461 1248,-467 1248,-473 1248,-473 1248,-532 1248,-532 1248,-538 1242,-544 1236,-544\"/>\n<text text-anchor=\"middle\" x=\"1182.5\" y=\"-528.8\" font-family=\"Helvetica,sans-Serif\" font-size=\"14.00\" fill=\"#000000\">Glucose &lt;= 179.5</text>\n<text text-anchor=\"middle\" x=\"1182.5\" y=\"-513.8\" font-family=\"Helvetica,sans-Serif\" font-size=\"14.00\" fill=\"#000000\">entropy = 0.17</text>\n<text text-anchor=\"middle\" x=\"1182.5\" y=\"-498.8\" font-family=\"Helvetica,sans-Serif\" font-size=\"14.00\" fill=\"#000000\">samples = 41</text>\n<text text-anchor=\"middle\" x=\"1182.5\" y=\"-483.8\" font-family=\"Helvetica,sans-Serif\" font-size=\"14.00\" fill=\"#000000\">value = [1, 40]</text>\n<text text-anchor=\"middle\" x=\"1182.5\" y=\"-468.8\" font-family=\"Helvetica,sans-Serif\" font-size=\"14.00\" fill=\"#000000\">class = 1</text>\n</g>\n<!-- 12&#45;&gt;13 -->\n<g id=\"edge41\" class=\"edge\">\n<title>12&#45;&gt;13</title>\n<path fill=\"none\" stroke=\"#000000\" d=\"M1182.5,-579.8796C1182.5,-571.6838 1182.5,-562.9891 1182.5,-554.5013\"/>\n<polygon fill=\"#000000\" stroke=\"#000000\" points=\"1186.0001,-554.298 1182.5,-544.2981 1179.0001,-554.2981 1186.0001,-554.298\"/>\n</g>\n<!-- 14 -->\n<g id=\"node45\" class=\"node\">\n<title>14</title>\n<path fill=\"#9ccef2\" stroke=\"#000000\" d=\"M1364.5,-536.5C1364.5,-536.5 1278.5,-536.5 1278.5,-536.5 1272.5,-536.5 1266.5,-530.5 1266.5,-524.5 1266.5,-524.5 1266.5,-480.5 1266.5,-480.5 1266.5,-474.5 1272.5,-468.5 1278.5,-468.5 1278.5,-468.5 1364.5,-468.5 1364.5,-468.5 1370.5,-468.5 1376.5,-474.5 1376.5,-480.5 1376.5,-480.5 1376.5,-524.5 1376.5,-524.5 1376.5,-530.5 1370.5,-536.5 1364.5,-536.5\"/>\n<text text-anchor=\"middle\" x=\"1321.5\" y=\"-521.3\" font-family=\"Helvetica,sans-Serif\" font-size=\"14.00\" fill=\"#000000\">entropy = 0.92</text>\n<text text-anchor=\"middle\" x=\"1321.5\" y=\"-506.3\" font-family=\"Helvetica,sans-Serif\" font-size=\"14.00\" fill=\"#000000\">samples = 15</text>\n<text text-anchor=\"middle\" x=\"1321.5\" y=\"-491.3\" font-family=\"Helvetica,sans-Serif\" font-size=\"14.00\" fill=\"#000000\">value = [5, 10]</text>\n<text text-anchor=\"middle\" x=\"1321.5\" y=\"-476.3\" font-family=\"Helvetica,sans-Serif\" font-size=\"14.00\" fill=\"#000000\">class = 1</text>\n</g>\n<!-- 12&#45;&gt;14 -->\n<g id=\"edge44\" class=\"edge\">\n<title>12&#45;&gt;14</title>\n<path fill=\"none\" stroke=\"#000000\" d=\"M1231.1155,-579.8796C1244.8587,-568.1138 1259.8031,-555.3197 1273.5093,-543.5855\"/>\n<polygon fill=\"#000000\" stroke=\"#000000\" points=\"1276.0976,-545.9771 1281.4178,-536.8149 1271.5452,-540.6596 1276.0976,-545.9771\"/>\n</g>\n<!-- 43 -->\n<g id=\"node43\" class=\"node\">\n<title>43</title>\n<path fill=\"#399de5\" stroke=\"#000000\" d=\"M1224,-417.5C1224,-417.5 1141,-417.5 1141,-417.5 1135,-417.5 1129,-411.5 1129,-405.5 1129,-405.5 1129,-361.5 1129,-361.5 1129,-355.5 1135,-349.5 1141,-349.5 1141,-349.5 1224,-349.5 1224,-349.5 1230,-349.5 1236,-355.5 1236,-361.5 1236,-361.5 1236,-405.5 1236,-405.5 1236,-411.5 1230,-417.5 1224,-417.5\"/>\n<text text-anchor=\"middle\" x=\"1182.5\" y=\"-402.3\" font-family=\"Helvetica,sans-Serif\" font-size=\"14.00\" fill=\"#000000\">entropy = 0.0</text>\n<text text-anchor=\"middle\" x=\"1182.5\" y=\"-387.3\" font-family=\"Helvetica,sans-Serif\" font-size=\"14.00\" fill=\"#000000\">samples = 26</text>\n<text text-anchor=\"middle\" x=\"1182.5\" y=\"-372.3\" font-family=\"Helvetica,sans-Serif\" font-size=\"14.00\" fill=\"#000000\">value = [0, 26]</text>\n<text text-anchor=\"middle\" x=\"1182.5\" y=\"-357.3\" font-family=\"Helvetica,sans-Serif\" font-size=\"14.00\" fill=\"#000000\">class = 1</text>\n</g>\n<!-- 13&#45;&gt;43 -->\n<g id=\"edge42\" class=\"edge\">\n<title>13&#45;&gt;43</title>\n<path fill=\"none\" stroke=\"#000000\" d=\"M1182.5,-460.8796C1182.5,-450.2134 1182.5,-438.7021 1182.5,-427.9015\"/>\n<polygon fill=\"#000000\" stroke=\"#000000\" points=\"1186.0001,-427.8149 1182.5,-417.8149 1179.0001,-427.815 1186.0001,-427.8149\"/>\n</g>\n<!-- 44 -->\n<g id=\"node44\" class=\"node\">\n<title>44</title>\n<path fill=\"#47a4e7\" stroke=\"#000000\" d=\"M1352.5,-417.5C1352.5,-417.5 1266.5,-417.5 1266.5,-417.5 1260.5,-417.5 1254.5,-411.5 1254.5,-405.5 1254.5,-405.5 1254.5,-361.5 1254.5,-361.5 1254.5,-355.5 1260.5,-349.5 1266.5,-349.5 1266.5,-349.5 1352.5,-349.5 1352.5,-349.5 1358.5,-349.5 1364.5,-355.5 1364.5,-361.5 1364.5,-361.5 1364.5,-405.5 1364.5,-405.5 1364.5,-411.5 1358.5,-417.5 1352.5,-417.5\"/>\n<text text-anchor=\"middle\" x=\"1309.5\" y=\"-402.3\" font-family=\"Helvetica,sans-Serif\" font-size=\"14.00\" fill=\"#000000\">entropy = 0.35</text>\n<text text-anchor=\"middle\" x=\"1309.5\" y=\"-387.3\" font-family=\"Helvetica,sans-Serif\" font-size=\"14.00\" fill=\"#000000\">samples = 15</text>\n<text text-anchor=\"middle\" x=\"1309.5\" y=\"-372.3\" font-family=\"Helvetica,sans-Serif\" font-size=\"14.00\" fill=\"#000000\">value = [1, 14]</text>\n<text text-anchor=\"middle\" x=\"1309.5\" y=\"-357.3\" font-family=\"Helvetica,sans-Serif\" font-size=\"14.00\" fill=\"#000000\">class = 1</text>\n</g>\n<!-- 13&#45;&gt;44 -->\n<g id=\"edge43\" class=\"edge\">\n<title>13&#45;&gt;44</title>\n<path fill=\"none\" stroke=\"#000000\" d=\"M1226.9184,-460.8796C1239.3579,-449.2237 1252.8743,-436.5587 1265.301,-424.9148\"/>\n<polygon fill=\"#000000\" stroke=\"#000000\" points=\"1267.9741,-427.2065 1272.8782,-417.8149 1263.1879,-422.0985 1267.9741,-427.2065\"/>\n</g>\n</g>\n</svg>\n"
          },
          "metadata": {},
          "execution_count": 9
        }
      ]
    },
    {
      "cell_type": "markdown",
      "source": [
        "Выполнение предсказания для объектов из тестовой выборки:"
      ],
      "metadata": {
        "id": "D-digirKix77"
      }
    },
    {
      "cell_type": "code",
      "metadata": {
        "id": "NxXjkQWTQoWo"
      },
      "source": [
        "features = list(test.columns[:8])\n",
        "x = test[features]\n",
        "y_true = test['Outcome']\n",
        "y_pred = clf.predict(x)"
      ],
      "execution_count": 10,
      "outputs": []
    },
    {
      "cell_type": "markdown",
      "source": [
        "Доля правильных ответов"
      ],
      "metadata": {
        "id": "0OjN-j01i3S0"
      }
    },
    {
      "cell_type": "code",
      "source": [
        "from sklearn.metrics import accuracy_score\n",
        "accuracy_score(y_true, y_pred)"
      ],
      "metadata": {
        "colab": {
          "base_uri": "https://localhost:8080/"
        },
        "id": "WTeZQ6kki3wd",
        "outputId": "55140c0c-89ba-4abb-9fef-d22a269edc47"
      },
      "execution_count": 11,
      "outputs": [
        {
          "output_type": "execute_result",
          "data": {
            "text/plain": [
              "0.8046875"
            ]
          },
          "metadata": {},
          "execution_count": 11
        }
      ]
    },
    {
      "cell_type": "markdown",
      "source": [
        "Среднее значение метрик  F1  (Macro-F1):"
      ],
      "metadata": {
        "id": "oEuH6E4njDPJ"
      }
    },
    {
      "cell_type": "code",
      "metadata": {
        "colab": {
          "base_uri": "https://localhost:8080/"
        },
        "id": "I81HjHwbOajV",
        "outputId": "09388879-13d2-4495-fd88-a791546276eb"
      },
      "source": [
        "from sklearn.metrics import f1_score\n",
        "f1_score(y_true, y_pred, average='macro')"
      ],
      "execution_count": 12,
      "outputs": [
        {
          "output_type": "execute_result",
          "data": {
            "text/plain": [
              "0.7604611123587095"
            ]
          },
          "metadata": {},
          "execution_count": 12
        }
      ]
    },
    {
      "cell_type": "markdown",
      "source": [
        "Предсказание для конкретного объекта (с индексом 743) исходных данных:"
      ],
      "metadata": {
        "id": "7sOJHyuajIQ1"
      }
    },
    {
      "cell_type": "code",
      "source": [
        "df.loc[743, features]"
      ],
      "metadata": {
        "colab": {
          "base_uri": "https://localhost:8080/"
        },
        "id": "SoUQ6XZjjQSJ",
        "outputId": "07d5c42e-4e32-4b02-b7ff-ca66396a808e"
      },
      "execution_count": 13,
      "outputs": [
        {
          "output_type": "execute_result",
          "data": {
            "text/plain": [
              "Pregnancies                   9.000\n",
              "Glucose                     140.000\n",
              "BloodPressure                94.000\n",
              "SkinThickness                 0.000\n",
              "Insulin                       0.000\n",
              "BMI                          32.700\n",
              "DiabetesPedigreeFunction      0.734\n",
              "Age                          45.000\n",
              "Name: 743, dtype: float64"
            ]
          },
          "metadata": {},
          "execution_count": 13
        }
      ]
    },
    {
      "cell_type": "markdown",
      "source": [
        "Назначенный класс:"
      ],
      "metadata": {
        "id": "-dM8X4V9jUjO"
      }
    },
    {
      "cell_type": "code",
      "metadata": {
        "colab": {
          "base_uri": "https://localhost:8080/"
        },
        "id": "gTLifNE6Q8Hd",
        "outputId": "30112838-d82d-4a24-c3d2-0d369b443e61"
      },
      "source": [
        "clf.predict([df.loc[743, features].tolist()])[0]"
      ],
      "execution_count": 14,
      "outputs": [
        {
          "output_type": "stream",
          "name": "stderr",
          "text": [
            "/usr/local/lib/python3.7/dist-packages/sklearn/base.py:451: UserWarning: X does not have valid feature names, but DecisionTreeClassifier was fitted with feature names\n",
            "  \"X does not have valid feature names, but\"\n"
          ]
        },
        {
          "output_type": "execute_result",
          "data": {
            "text/plain": [
              "1"
            ]
          },
          "metadata": {},
          "execution_count": 14
        }
      ]
    }
  ]
}